{
  "nbformat": 4,
  "nbformat_minor": 0,
  "metadata": {
    "kernelspec": {
      "display_name": "Python",
      "language": "python",
      "name": "conda-env-python-py"
    },
    "language_info": {
      "codemirror_mode": {
        "name": "ipython",
        "version": 3
      },
      "file_extension": ".py",
      "mimetype": "text/x-python",
      "name": "python",
      "nbconvert_exporter": "python",
      "pygments_lexer": "ipython3",
      "version": "3.6.7"
    },
    "colab": {
      "name": "LIDS0006_U1M1_Types_SP.ipynb",
      "provenance": [],
      "include_colab_link": true
    }
  },
  "cells": [
    {
      "cell_type": "markdown",
      "metadata": {
        "id": "view-in-github",
        "colab_type": "text"
      },
      "source": [
        "<a href=\"https://colab.research.google.com/github/Eduardo-Lujan/myFirstRepo/blob/master/LIDS0006_U1M1_Types_SP.ipynb\" target=\"_parent\"><img src=\"https://colab.research.google.com/assets/colab-badge.svg\" alt=\"Open In Colab\"/></a>"
      ]
    },
    {
      "cell_type": "markdown",
      "metadata": {
        "id": "0dE5VSig0T2p"
      },
      "source": [
        "<div class=\"alert alert-block alert-info\" style=\"margin-top: 20px\">\n",
        "    <a href=\"https://cocl.us/NotebooksPython101\">\n",
        "         <img src=\"https://s3-api.us-geo.objectstorage.softlayer.net/cf-courses-data/CognitiveClass/PY0101EN/Ad/TopAd.png\" width=\"750\" align=\"center\">\n",
        "    </a>\n",
        "</div>"
      ]
    },
    {
      "cell_type": "markdown",
      "metadata": {
        "id": "P1vd42pl0T2u"
      },
      "source": [
        "<a href=\"https://cognitiveclass.ai/\">\n",
        "    <img src=\"https://s3-api.us-geo.objectstorage.softlayer.net/cf-courses-data/CognitiveClass/PY0101EN/Ad/CCLog.png\" width=\"200\" align=\"center\">\n",
        "</a>"
      ]
    },
    {
      "cell_type": "markdown",
      "metadata": {
        "id": "AvIAW2s20T2u"
      },
      "source": [
        "<h1>Python: ¡Cómo escribir su primer código en Python!</h1>"
      ]
    },
    {
      "cell_type": "markdown",
      "metadata": {
        "id": "eTGV9VP_0T2v"
      },
      "source": [
        "<p><strong>¡Bienvenido!</strong> Este cuad\"Jupyter Notebooks\"erno le enseñará los conceptos básicos del lenguaje de programación Python. Aunque la información que se presenta aquí es bastante básica, es una base importante que lo ayudará a leer y escribir códigos en Python. Al final de este \"Jupyter Notebooks\", conocerá los conceptos básicos de Python, que incluyen cómo escribir comandos básicos, comprender algunos tipos básicos y realizar operaciones simples con los mismos.</p> "
      ]
    },
    {
      "cell_type": "markdown",
      "metadata": {
        "id": "JzXlsL2C0T2v"
      },
      "source": [
        "<h2>Índice</h2>\n",
        "<div class=\"alert alert-block alert-info\" style=\"margin-top: 20px\">\n",
        "    <ul>\n",
        "        <li>\n",
        "            <a href=\"#hola\">Diga \"Hola\" al mundo en Python </a>\n",
        "            <ul>\n",
        "                <li><a href=\"version\">¿Qué versión de Python usamos?</a></li>\n",
        "                <li><a href=\"comentarios\">Cómo escribir comentarios en Python</a></li>\n",
        "                <li><a href=\"errores\">Errores en Python</a></li>\n",
        "                <li><a href=\"errores_python\">¿Python reconoce errores antes de ejecutar su código?</a></li>\n",
        "                <li><a href=\"ejercicio\">Ejercicio: Su primer programa</a></li>\n",
        "            </ul>\n",
        "        </li>\n",
        "        <li>\n",
        "            <a href=\"#tipos_objetos\">Tipos de objetos en Python</a>\n",
        "            <ul>\n",
        "                <li><a href=\"ent\">Enteros</a></li>\n",
        "                <li><a href=\"flotantes\">Flotantes</a></li>\n",
        "                <li><a href=\"convertir\">Cómo convertir de un tipo de objeto a otro tipo de objeto</a></li>\n",
        "                <li><a href=\"bool\">Tipo de datos booleano</a></li>\n",
        "                <li><a href=\"ejer_tipo\">Ejercicio: Tipos</a></li>\n",
        "            </ul>\n",
        "        </li>\n",
        "        <li>\n",
        "            <a href=\"#expresiones\">Expresiones y variables</a>\n",
        "            <ul>\n",
        "                <li><a href=\"exp\">Expresiones</a></li>\n",
        "                <li><a href=\"exer_exp\">Ejercicio: Expresiones</a></li>\n",
        "                <li><a href=\"var\">Variables</a></li>\n",
        "                <li><a href=\"ejer_exp_var\">Ejercicio: Expresión y variables en Python</a></li>\n",
        "            </ul>\n",
        "        </li>\n",
        "    </ul>\n",
        "    <p>\n",
        "        Tiempo estimado necesario: <strong>25 min</strong>\n",
        "    </p>\n",
        "</div>\n",
        "\n",
        "<hr>"
      ]
    },
    {
      "cell_type": "markdown",
      "metadata": {
        "id": "FPH0jgd00T2v"
      },
      "source": [
        "<h2 id=\"hola\">Diga \"Hola\" al mundo en Python</h2>"
      ]
    },
    {
      "cell_type": "markdown",
      "metadata": {
        "id": "iqGPkmnj0T2w"
      },
      "source": [
        "Cuando se aprende un nuevo lenguaje de programación, es habitual comenzar con un ejemplo de \"hola, mundo\". Por más simple que parezca, esta línea de código garantizará que sepamos cómo escribir una cadena en salida y cómo ejecutar el código dentro de las celdas de un \"Jupyter Notebooks\"."
      ]
    },
    {
      "cell_type": "markdown",
      "metadata": {
        "id": "qtM6FaFn0T2w"
      },
      "source": [
        "<hr/>\n",
        "<div class=\"alert alert-success alertsuccess\" style=\"margin-top: 20px\">\n",
        "[Consejo]: Para ejecutar el código de Python en la celda de código a continuación, haga clic en la celda para seleccionarla y presione <kbd>Shift</kbd> + <kbd>Enter</kbd>.\n",
        "</div>\n",
        "<hr/>"
      ]
    },
    {
      "cell_type": "code",
      "metadata": {
        "colab": {
          "base_uri": "https://localhost:8080/"
        },
        "id": "JvV3PQkR0T2w",
        "outputId": "e65ac64c-f61e-4e0c-8184-144695a3bffe"
      },
      "source": [
        "# Pruebe su primera salida en Python\n",
        "\n",
        "print('¡Hola, Python!')"
      ],
      "execution_count": 1,
      "outputs": [
        {
          "output_type": "stream",
          "text": [
            "¡Hola, Python!\n"
          ],
          "name": "stdout"
        }
      ]
    },
    {
      "cell_type": "markdown",
      "metadata": {
        "id": "exUqym8L0T2w"
      },
      "source": [
        "Después de ejecutar la celda anterior, debería ver que Python escribe <code>¡Hola, Python!</code>. ¡Felicitaciones por ejecutar su primer código en Python!"
      ]
    },
    {
      "cell_type": "markdown",
      "metadata": {
        "id": "CIoHyNYN0T2x"
      },
      "source": [
        "<hr/>\n",
        "<div class=\"alert alert-success alertsuccess\" style=\"margin-top: 20px\">\n",
        "    [Tip:] <code>print()</code> is a function. You passed the string <code>'Hello, Python!'</code> as an argument to instruct Python on what to print.\n",
        "</div>\n",
        "<hr/>"
      ]
    },
    {
      "cell_type": "markdown",
      "metadata": {
        "id": "4FWiIcqH0T2x"
      },
      "source": [
        "<h3 id=\"version\">¿Qué versión de Python usamos?</h3>"
      ]
    },
    {
      "cell_type": "markdown",
      "metadata": {
        "id": "gXbXSgg70T2x"
      },
      "source": [
        "<p>\n",
        "    Hoy en día existen dos versiones populares del lenguaje de programación Python en uso: Python 2 y Python 3. La comunidad Python ha decidido pasar de Python 2 a Python 3, y muchas bibliotecas populares han anunciado que ya no serán compatibles con Python 2. \n",
        "</p>\n",
        "<p>\n",
        "    Ya que Python 3 es el futuro, en este curso usaremos exclusivamente esta versión. ¿Cómo sabemos que nuestro \"Jupyter Notebooks\" es ejecutado por un tiempo de ejecución de Python 3? Podemos mirar en la esquina superior derecha de este \"Jupyter Notebooks\" y ver \"Python 3\". \n",
        "</p>\n",
        "<p>\n",
        "    También podemos preguntar directamente a Python y obtener una respuesta detallada. Intente ejecutar el siguiente código: \n",
        "</p>"
      ]
    },
    {
      "cell_type": "code",
      "metadata": {
        "colab": {
          "base_uri": "https://localhost:8080/"
        },
        "id": "nt7F88l_0T2x",
        "outputId": "60679973-1c33-4315-c13c-be74da8323ed"
      },
      "source": [
        "# Verificar la versión de Python\n",
        "\n",
        "import sys\n",
        "print(sys.version)"
      ],
      "execution_count": 2,
      "outputs": [
        {
          "output_type": "stream",
          "text": [
            "3.7.10 (default, May  3 2021, 02:48:31) \n",
            "[GCC 7.5.0]\n"
          ],
          "name": "stdout"
        }
      ]
    },
    {
      "cell_type": "markdown",
      "metadata": {
        "id": "3Exea4YE0T2y"
      },
      "source": [
        "<hr/>\n",
        "<div class=\"alert alert-success alertsuccess\" style=\"margin-top: 20px\">\n",
        "    [Consejo:] <code>sys</code> es un módulo incorporado que contiene muchos parámetros y funciones específicos del sistema, incluida la versión de Python en uso. Antes de utilizarlo, debemos <code>importarlo</code>.\n",
        "</div>\n",
        "<hr/>"
      ]
    },
    {
      "cell_type": "markdown",
      "metadata": {
        "id": "N691a4MG0T2y"
      },
      "source": [
        "<h3 id=\"comentarios\">Cómo escribir comentarios en Python</h3>"
      ]
    },
    {
      "cell_type": "markdown",
      "metadata": {
        "id": "Ap9GJp6T0T2y"
      },
      "source": [
        "<p>\n",
        "    Además de escribir código, tenga en cuenta que siempre es una buena idea agregar comentarios a su código. Esto ayudará a otros a comprender lo que usted intentaba lograr (la razón por la que escribió un fragmento de código dado). Esto no solo ayuda a <strong> otras personas</strong>  a entender su código, sino que también puede servir como un recordatorio <strong>para usted</strong>.\n",
        "</p>\n",
        "\n",
        "<p>\n",
        "    Para escribir comentarios en Python, use el símbolo numeral <code>#</code> antes de escribir su comentario. Cuando ejecute su código, Python ignorará todo lo que esté después del <code>#</code> en una línea determinada.\n",
        "</p>"
      ]
    },
    {
      "cell_type": "code",
      "metadata": {
        "colab": {
          "base_uri": "https://localhost:8080/"
        },
        "id": "k4SrNMhX0T2y",
        "outputId": "1ecd784c-ea5e-4b11-8b88-194c921a0809"
      },
      "source": [
        "# Practique la escritura de comentarios\n",
        "\n",
        "print('Hola, Python!') # Esta línea escribe una cadena\n",
        "# print('Hola')"
      ],
      "execution_count": 3,
      "outputs": [
        {
          "output_type": "stream",
          "text": [
            "Hola, Python!\n"
          ],
          "name": "stdout"
        }
      ]
    },
    {
      "cell_type": "markdown",
      "metadata": {
        "id": "OC-PHd7m0T2y"
      },
      "source": [
        "<p>\n",
        "    Después de ejecutar la celda de arriba, debería notar que <code>Esta línea escribe una cadena</code> no apareció en la salida, porque era un comentario (y, por lo tanto, fue ignorado por Python). \n",
        "</p>\n",
        "<p>\n",
        "    La segunda línea tampoco fue ejecutada porque <code>print('Hola')</code> también se escribió después del símbolo numeral <code>(#)</code>. Dado que esto no es un comentario explicativo del programador, sino una línea de código real, podríamos decir que el programador <em>comentó</em> esa segunda línea de código.\n",
        "</p>"
      ]
    },
    {
      "cell_type": "markdown",
      "metadata": {
        "id": "gkk-PMES0T2z"
      },
      "source": [
        "<h3 id=\"errores\">Errores en Python</h3>"
      ]
    },
    {
      "cell_type": "markdown",
      "metadata": {
        "id": "Vs9_Cmr80T2z"
      },
      "source": [
        "<p>Todos cometemos errores. Para muchos tipos de errores, Python le dirá que ha cometido un error al presentarle un mensaje de error. Es importante leer atentamente los mensajes de error para comprender realmente dónde cometió el error y cómo puede corregirlo.\n",
        "</p>\n",
        "<p>Por ejemplo, si escribe <code>frint</code> en vez de <code>print</code>, Python mostrará un mensaje de error. Pruébelo:"
      ]
    },
    {
      "cell_type": "code",
      "metadata": {
        "colab": {
          "base_uri": "https://localhost:8080/",
          "height": 198
        },
        "id": "5CyjyqMD0T2z",
        "outputId": "99ae0a6a-c0c0-45a5-c0a9-250a243e220f"
      },
      "source": [
        "# Escribir cadena como mensaje de error\n",
        "\n",
        "frint(\"Hola, Python!\")"
      ],
      "execution_count": 4,
      "outputs": [
        {
          "output_type": "error",
          "ename": "NameError",
          "evalue": "ignored",
          "traceback": [
            "\u001b[0;31m---------------------------------------------------------------------------\u001b[0m",
            "\u001b[0;31mNameError\u001b[0m                                 Traceback (most recent call last)",
            "\u001b[0;32m<ipython-input-4-858789b7422a>\u001b[0m in \u001b[0;36m<module>\u001b[0;34m()\u001b[0m\n\u001b[1;32m      1\u001b[0m \u001b[0;31m# Escribir cadena como mensaje de error\u001b[0m\u001b[0;34m\u001b[0m\u001b[0;34m\u001b[0m\u001b[0;34m\u001b[0m\u001b[0m\n\u001b[1;32m      2\u001b[0m \u001b[0;34m\u001b[0m\u001b[0m\n\u001b[0;32m----> 3\u001b[0;31m \u001b[0mfrint\u001b[0m\u001b[0;34m(\u001b[0m\u001b[0;34m\"Hola, Python!\"\u001b[0m\u001b[0;34m)\u001b[0m\u001b[0;34m\u001b[0m\u001b[0;34m\u001b[0m\u001b[0m\n\u001b[0m",
            "\u001b[0;31mNameError\u001b[0m: name 'frint' is not defined"
          ]
        }
      ]
    },
    {
      "cell_type": "markdown",
      "metadata": {
        "id": "GyzkgXs-0T2z"
      },
      "source": [
        "<p>El mensaje de error le dice: \n",
        "<ol>\n",
        "    <li>Dónde ocurrió el error (más útil en celdas o scripts de \"Jupyter Notebooks\" grandes)\n",
        "</li> \n",
        "    <li>Qué tipo de error fue (NameError)</li> \n",
        "</ol>\n",
        "<p>En este caso, Python intentó ejecutar la función <code>frint</code>, pero no pudo determinar qué es <code>frint</code> porque no es una función incorporada y tampoco la hemos definido previamente.</p>"
      ]
    },
    {
      "cell_type": "markdown",
      "metadata": {
        "id": "JK-Lr8IO0T2z"
      },
      "source": [
        "<p>\n",
        "    Notará que si se comete un tipo de error diferente, por ejemplo al olvidar cerrar la cadena, se obtendrá un error diferente (es decir, un <code>SyntaxError</code>). Pruébelo a continuación:\n",
        "</p>"
      ]
    },
    {
      "cell_type": "code",
      "metadata": {
        "colab": {
          "base_uri": "https://localhost:8080/",
          "height": 130
        },
        "id": "iRQvOrDl0T2z",
        "outputId": "24195a6d-52e3-44a2-b5b6-2bae7b992c87"
      },
      "source": [
        "# Intente ver el mensaje de error incorporado\n",
        "\n",
        "print(\"¡Hola, Python!)"
      ],
      "execution_count": 5,
      "outputs": [
        {
          "output_type": "error",
          "ename": "SyntaxError",
          "evalue": "ignored",
          "traceback": [
            "\u001b[0;36m  File \u001b[0;32m\"<ipython-input-5-6956f6a756e3>\"\u001b[0;36m, line \u001b[0;32m3\u001b[0m\n\u001b[0;31m    print(\"¡Hola, Python!)\u001b[0m\n\u001b[0m                          ^\u001b[0m\n\u001b[0;31mSyntaxError\u001b[0m\u001b[0;31m:\u001b[0m EOL while scanning string literal\n"
          ]
        }
      ]
    },
    {
      "cell_type": "markdown",
      "metadata": {
        "id": "GsoJbk2x0T2z"
      },
      "source": [
        "<h3 id=\"python_error\">¿Python reconoce errores antes de ejecutar su código?</h3>"
      ]
    },
    {
      "cell_type": "markdown",
      "metadata": {
        "id": "0R7OLm0W0T20"
      },
      "source": [
        "Python es lo que se denomina un _lenguaje interpretado_. Los lenguajes compilados examinan todo su programa en el momento de la compilación y pueden advertirle sobre toda una clase de errores antes de la ejecución. En contraste, Python interpreta su script línea por línea a medida que lo ejecuta. Python dejará de ejecutar el programa en su totalidad cuando encuentre un error (a menos que el programador investigue y se encargue del error, un tema más avanzado que trataremos más adelante en este curso)."
      ]
    },
    {
      "cell_type": "markdown",
      "metadata": {
        "id": "Bxx7jTtS0T20"
      },
      "source": [
        "Intente ejecutar el código en la celda que aparece a continuación y vea qué sucede:"
      ]
    },
    {
      "cell_type": "code",
      "metadata": {
        "colab": {
          "base_uri": "https://localhost:8080/",
          "height": 232
        },
        "id": "wqcXheus0T20",
        "outputId": "8af39cf3-2095-465f-d3a7-e756cabb4dce"
      },
      "source": [
        "# \n",
        "\n",
        "print(\"Esto se escribirá\")\n",
        "frint(\"Esto causará un error\")\n",
        "print(\"Esto NO se escribirá\")"
      ],
      "execution_count": 7,
      "outputs": [
        {
          "output_type": "stream",
          "text": [
            "Esto se escribirá\n"
          ],
          "name": "stdout"
        },
        {
          "output_type": "error",
          "ename": "NameError",
          "evalue": "ignored",
          "traceback": [
            "\u001b[0;31m---------------------------------------------------------------------------\u001b[0m",
            "\u001b[0;31mNameError\u001b[0m                                 Traceback (most recent call last)",
            "\u001b[0;32m<ipython-input-7-159023a5c06b>\u001b[0m in \u001b[0;36m<module>\u001b[0;34m()\u001b[0m\n\u001b[1;32m      2\u001b[0m \u001b[0;34m\u001b[0m\u001b[0m\n\u001b[1;32m      3\u001b[0m \u001b[0mprint\u001b[0m\u001b[0;34m(\u001b[0m\u001b[0;34m\"Esto se escribirá\"\u001b[0m\u001b[0;34m)\u001b[0m\u001b[0;34m\u001b[0m\u001b[0;34m\u001b[0m\u001b[0m\n\u001b[0;32m----> 4\u001b[0;31m \u001b[0mfrint\u001b[0m\u001b[0;34m(\u001b[0m\u001b[0;34m\"Esto causará un error\"\u001b[0m\u001b[0;34m)\u001b[0m\u001b[0;34m\u001b[0m\u001b[0;34m\u001b[0m\u001b[0m\n\u001b[0m\u001b[1;32m      5\u001b[0m \u001b[0mprint\u001b[0m\u001b[0;34m(\u001b[0m\u001b[0;34m\"Esto NO se escribirá\"\u001b[0m\u001b[0;34m)\u001b[0m\u001b[0;34m\u001b[0m\u001b[0;34m\u001b[0m\u001b[0m\n",
            "\u001b[0;31mNameError\u001b[0m: name 'frint' is not defined"
          ]
        }
      ]
    },
    {
      "cell_type": "markdown",
      "metadata": {
        "id": "B9GcwvJM0T20"
      },
      "source": [
        "<h3 id=\"ejercicio\">Ejercicio: Su primer programa</h3>"
      ]
    },
    {
      "cell_type": "markdown",
      "metadata": {
        "id": "iTqGbMif0T20"
      },
      "source": [
        "<p>Generaciones de programadores han comenzado sus carreras de codificación simplemente escribiendo \"¡Hola, mundo!\". Usted seguirá sus pasos.</p>\n",
        "<p>\n",
        "En la celda de código que aparece a continuación, use la función <code>print()</code> para escribir la frase: <code>¡Hola, Mundo!</code></p>"
      ]
    },
    {
      "cell_type": "code",
      "metadata": {
        "colab": {
          "base_uri": "https://localhost:8080/"
        },
        "id": "pptedYyw0T20",
        "outputId": "818bd7b5-4359-4e3a-b2aa-32d3ea0ebdec"
      },
      "source": [
        "# Escriba su código a continuación y presione Shift+Enter para ejecutarlo\n",
        "print(\"¡Hola, Mundo!\")"
      ],
      "execution_count": 8,
      "outputs": [
        {
          "output_type": "stream",
          "text": [
            "¡Hola, Mundo!\n"
          ],
          "name": "stdout"
        }
      ]
    },
    {
      "cell_type": "markdown",
      "metadata": {
        "id": "9j1YP4Qv0T20"
      },
      "source": [
        "Haga doble clic __aquí__ para ver la solución.\n",
        "\n",
        "<!-- Su respuesta aparece a continuación:\n",
        "\n",
        "print(\"¡Hola, mundo!\")\n",
        "\n",
        "-->"
      ]
    },
    {
      "cell_type": "markdown",
      "metadata": {
        "id": "AD2vSnaz0T20"
      },
      "source": [
        "<p>Ahora, vamos a mejorar su código con un comentario. En la celda de código que aparece a continuación, escriba la frase: <code>¡Hola, Mundo! </code> y coméntela con la frase <code>Escribir el tradicional hola mundo</code> todo en una misma línea de código.</p>"
      ]
    },
    {
      "cell_type": "code",
      "metadata": {
        "colab": {
          "base_uri": "https://localhost:8080/"
        },
        "id": "uz2hPKmh0T21",
        "outputId": "4e8332ab-6687-45e1-d8ac-4aa2be70b080"
      },
      "source": [
        "# Escriba su código a continuación y presione Shift+Enter para ejecutarlo  \n",
        "print(\"¡Hola, Mundo!\") #Escribir el tradicional hola mundo "
      ],
      "execution_count": 9,
      "outputs": [
        {
          "output_type": "stream",
          "text": [
            "¡Hola, Mundo!\n"
          ],
          "name": "stdout"
        }
      ]
    },
    {
      "cell_type": "markdown",
      "metadata": {
        "id": "L9hngmit0T21"
      },
      "source": [
        "Haga doble clic __aquí__ para ver la solución.\n",
        "\n",
        "<!-- Su respuesta aparece a continuación:\n",
        "\n",
        "print(\"¡Hola, mundo!\") # Escriba el tradicional hola mundo\n",
        "\n",
        "-->\n"
      ]
    },
    {
      "cell_type": "markdown",
      "metadata": {
        "id": "prWUSlnz0T21"
      },
      "source": [
        "<hr>"
      ]
    },
    {
      "cell_type": "markdown",
      "metadata": {
        "id": "pFKyqHhL0T21"
      },
      "source": [
        "<h2 id=\"tipos_objectos\" align=\"center\">Tipos de objetos en Python</h2>"
      ]
    },
    {
      "cell_type": "markdown",
      "metadata": {
        "id": "DNWwdTo00T21"
      },
      "source": [
        "<p>Python es un lenguaje orientado a objetos. Existen muchos tipos diferentes de objetos en Python. Comencemos con los tipos de objetos más comunes: <i>cadenas (strings)</i>, <i>enteros (integer)</i> y <i>flotantes (float)</i>. Cada vez que escribe palabras (texto) <i>(Words)</i> en Python, está usando <i>cadenas de caracteres</i> (cadenas para abreviar). Los números más comunes, por otro lado, son <i>enteros</i> (por ejemplo, -1, 0, 100) y <i>flotantes</i>, que representan números reales (por ejemplo, 3.14, -42.0).\n",
        "</p>"
      ]
    },
    {
      "cell_type": "markdown",
      "metadata": {
        "id": "ZiRH2vxh0T21"
      },
      "source": [
        "<a align=\"center\">\n",
        "    <img src=\"https://s3-api.us-geo.objectstorage.softlayer.net/cf-courses-data/CognitiveClass/PY0101EN/Chapter%201/Images/TypesObjects.png\" width=\"600\">\n",
        "</a>"
      ]
    },
    {
      "cell_type": "markdown",
      "metadata": {
        "id": "eGJ3YEVS0T22"
      },
      "source": [
        "<p>Las siguientes celdas de código contienen algunos ejemplos.</p>"
      ]
    },
    {
      "cell_type": "code",
      "metadata": {
        "colab": {
          "base_uri": "https://localhost:8080/"
        },
        "id": "X2TjZv-k0T22",
        "outputId": "445cbabd-429c-4103-97f7-fe4d633c9382"
      },
      "source": [
        "# Enteros (Integer)\n",
        "\n",
        "11"
      ],
      "execution_count": 10,
      "outputs": [
        {
          "output_type": "execute_result",
          "data": {
            "text/plain": [
              "11"
            ]
          },
          "metadata": {
            "tags": []
          },
          "execution_count": 10
        }
      ]
    },
    {
      "cell_type": "code",
      "metadata": {
        "colab": {
          "base_uri": "https://localhost:8080/"
        },
        "id": "G2MhOhEy0T22",
        "outputId": "34c32cbe-421a-4adc-f17d-4a2300fd7910"
      },
      "source": [
        "# Flotante (Float)\n",
        "\n",
        "2.14"
      ],
      "execution_count": 11,
      "outputs": [
        {
          "output_type": "execute_result",
          "data": {
            "text/plain": [
              "2.14"
            ]
          },
          "metadata": {
            "tags": []
          },
          "execution_count": 11
        }
      ]
    },
    {
      "cell_type": "code",
      "metadata": {
        "colab": {
          "base_uri": "https://localhost:8080/",
          "height": 35
        },
        "id": "5IC4ZccO0T22",
        "outputId": "49d30c45-9132-4686-8188-c67d4702020a"
      },
      "source": [
        "# Cadenas (String)\n",
        "\n",
        "\"¡Hola, Python 101!\""
      ],
      "execution_count": 12,
      "outputs": [
        {
          "output_type": "execute_result",
          "data": {
            "application/vnd.google.colaboratory.intrinsic+json": {
              "type": "string"
            },
            "text/plain": [
              "'¡Hola, Python 101!'"
            ]
          },
          "metadata": {
            "tags": []
          },
          "execution_count": 12
        }
      ]
    },
    {
      "cell_type": "markdown",
      "metadata": {
        "id": "6Segngzb0T22"
      },
      "source": [
        "<p>Puede hacer que Python le diga el tipo de expresión usando la función incorporada <code>type()</code>. Notará que Python se refiere a enteros como <code>int</code>, flotantes como float y cadenas de caracteres como <code>str</code>.\n",
        "</p>"
      ]
    },
    {
      "cell_type": "code",
      "metadata": {
        "colab": {
          "base_uri": "https://localhost:8080/"
        },
        "id": "apPtsKg-0T22",
        "outputId": "5d8968aa-bcda-490b-df6b-be37503ef490"
      },
      "source": [
        "# Tipo de 12\n",
        "\n",
        "type(12)"
      ],
      "execution_count": 13,
      "outputs": [
        {
          "output_type": "execute_result",
          "data": {
            "text/plain": [
              "int"
            ]
          },
          "metadata": {
            "tags": []
          },
          "execution_count": 13
        }
      ]
    },
    {
      "cell_type": "code",
      "metadata": {
        "colab": {
          "base_uri": "https://localhost:8080/"
        },
        "id": "FkVkEOgN0T22",
        "outputId": "fc011d6c-8774-4293-d1ff-596a942563ff"
      },
      "source": [
        "# Tipo de 2.14\n",
        "\n",
        "type(2.14)"
      ],
      "execution_count": 14,
      "outputs": [
        {
          "output_type": "execute_result",
          "data": {
            "text/plain": [
              "float"
            ]
          },
          "metadata": {
            "tags": []
          },
          "execution_count": 14
        }
      ]
    },
    {
      "cell_type": "code",
      "metadata": {
        "colab": {
          "base_uri": "https://localhost:8080/"
        },
        "id": "WyFmj9bV0T22",
        "outputId": "3e03ce59-842b-48c5-a088-084c6ee4f8cf"
      },
      "source": [
        "# Tipo de \"¡Hola, Python 101!\n",
        "\n",
        "type(\"¡Hola, Python 101!\")"
      ],
      "execution_count": 15,
      "outputs": [
        {
          "output_type": "execute_result",
          "data": {
            "text/plain": [
              "str"
            ]
          },
          "metadata": {
            "tags": []
          },
          "execution_count": 15
        }
      ]
    },
    {
      "cell_type": "markdown",
      "metadata": {
        "id": "ImG81baA0T23"
      },
      "source": [
        "<p>En la celda de código que aparece a continuación, use la función <code>type()</code> para comprobar el tipo de objeto de <code>12.0</code>.\n",
        "</p>"
      ]
    },
    {
      "cell_type": "code",
      "metadata": {
        "colab": {
          "base_uri": "https://localhost:8080/"
        },
        "id": "l0bPhWJv0T23",
        "outputId": "519548d1-dd87-4a1c-a45c-a9a5d02c4194"
      },
      "source": [
        "# Escriba su código abajo. No olvide presionar Shift+Enter para ejecutar la celda.\n",
        "type(12.0)"
      ],
      "execution_count": 17,
      "outputs": [
        {
          "output_type": "execute_result",
          "data": {
            "text/plain": [
              "float"
            ]
          },
          "metadata": {
            "tags": []
          },
          "execution_count": 17
        }
      ]
    },
    {
      "cell_type": "markdown",
      "metadata": {
        "id": "05AEjIKI0T23"
      },
      "source": [
        "Haga doble clic __aquí__ para ver la solución.\n",
        "\n",
        "<!-- Su respuesta aparece a continuación:\n",
        "\n",
        "type(12.0)\n",
        "\n",
        "-->"
      ]
    },
    {
      "cell_type": "markdown",
      "metadata": {
        "id": "z_xnTcdW0T23"
      },
      "source": [
        "<h3 id=\"ent\">Enteros</h3>"
      ]
    },
    {
      "cell_type": "markdown",
      "metadata": {
        "id": "TxTBQSgJ0T23"
      },
      "source": [
        "<p>A continuación se muestran algunos ejemplos de enteros. Los enteros pueden ser números negativos o positivos:</p>"
      ]
    },
    {
      "cell_type": "markdown",
      "metadata": {
        "id": "AAkMYNAX0T23"
      },
      "source": [
        "<a align=\"center\">\n",
        "    <img src=\"https://s3-api.us-geo.objectstorage.softlayer.net/cf-courses-data/CognitiveClass/PY0101EN/Chapter%201/Images/TypesInt.png\" width=\"600\">\n",
        "</a>"
      ]
    },
    {
      "cell_type": "markdown",
      "metadata": {
        "id": "4B50-rOE0T23"
      },
      "source": [
        "<p>Podemos verificar que este es el caso usando, ciertamente, la función <code>type()</code>\n",
        "</p>"
      ]
    },
    {
      "cell_type": "code",
      "metadata": {
        "colab": {
          "base_uri": "https://localhost:8080/"
        },
        "id": "FO2FWc9R0T23",
        "outputId": "667e5b92-00d2-4814-97a5-41fabe3f0154"
      },
      "source": [
        "# Escribir el tipo de -1\n",
        "\n",
        "type(-1)"
      ],
      "execution_count": 18,
      "outputs": [
        {
          "output_type": "execute_result",
          "data": {
            "text/plain": [
              "int"
            ]
          },
          "metadata": {
            "tags": []
          },
          "execution_count": 18
        }
      ]
    },
    {
      "cell_type": "code",
      "metadata": {
        "colab": {
          "base_uri": "https://localhost:8080/"
        },
        "id": "vkLTCSdM0T23",
        "outputId": "df793dcf-a3bb-49d1-aba0-a927c1a4f576"
      },
      "source": [
        "# Escribir el tipo de 4\n",
        "\n",
        "type(4)"
      ],
      "execution_count": 19,
      "outputs": [
        {
          "output_type": "execute_result",
          "data": {
            "text/plain": [
              "int"
            ]
          },
          "metadata": {
            "tags": []
          },
          "execution_count": 19
        }
      ]
    },
    {
      "cell_type": "code",
      "metadata": {
        "colab": {
          "base_uri": "https://localhost:8080/"
        },
        "id": "xQb-dT2P0T24",
        "outputId": "ca1accf9-847a-4578-c044-e0f58a2de514"
      },
      "source": [
        "# Escribir el tipo de 0\n",
        "\n",
        "type(0)"
      ],
      "execution_count": 20,
      "outputs": [
        {
          "output_type": "execute_result",
          "data": {
            "text/plain": [
              "int"
            ]
          },
          "metadata": {
            "tags": []
          },
          "execution_count": 20
        }
      ]
    },
    {
      "cell_type": "markdown",
      "metadata": {
        "id": "YK25LBXN0T24"
      },
      "source": [
        "<h3 id=\"flotantes\">Flotantes</h3> "
      ]
    },
    {
      "cell_type": "markdown",
      "metadata": {
        "id": "JNmjKAsy0T24"
      },
      "source": [
        "<p>Los flotantes representan números reales; son un superconjunto de números enteros, pero también incluyen \"números con decimales\". Existen algunas limitaciones cuando se trata de máquinas que representan números reales, pero los números de punto flotante son una buena representación en la mayoría de los casos. Puede obtener más información sobre las características específicas de los flotantes para su entorno de ejecución verificando el valor de <code>sys.float_info</code>. Esto también le dirá cuál es el número más grande y más pequeño que se puede representar con ellos.</p>\n",
        "<p>Una vez más, puede probar algunos ejemplos mediante la función <code>type()</code>:</p>"
      ]
    },
    {
      "cell_type": "code",
      "metadata": {
        "colab": {
          "base_uri": "https://localhost:8080/"
        },
        "id": "xdIIm_6_0T24",
        "outputId": "5357d2ee-b109-43e1-92ed-31d3e67b2c44"
      },
      "source": [
        "# Escribir el tipo de 1.0\n",
        "\n",
        "type(1.0) # Observe que 1 es un int y 1.0 es un flotante"
      ],
      "execution_count": 21,
      "outputs": [
        {
          "output_type": "execute_result",
          "data": {
            "text/plain": [
              "float"
            ]
          },
          "metadata": {
            "tags": []
          },
          "execution_count": 21
        }
      ]
    },
    {
      "cell_type": "code",
      "metadata": {
        "colab": {
          "base_uri": "https://localhost:8080/"
        },
        "id": "fbD9NzHB0T24",
        "outputId": "4b71c02a-ac41-409c-bb35-8478c4d5920c"
      },
      "source": [
        "# Escribir el tipo de 0.5\n",
        "\n",
        "type(0.5)"
      ],
      "execution_count": 22,
      "outputs": [
        {
          "output_type": "execute_result",
          "data": {
            "text/plain": [
              "float"
            ]
          },
          "metadata": {
            "tags": []
          },
          "execution_count": 22
        }
      ]
    },
    {
      "cell_type": "code",
      "metadata": {
        "colab": {
          "base_uri": "https://localhost:8080/"
        },
        "id": "E-ImFE3Y0T24",
        "outputId": "4ea96a90-ba2f-4702-accd-4bfd3f2a14ea"
      },
      "source": [
        "# Escribir el tipo de 0.56\n",
        "\n",
        "type(0.56)"
      ],
      "execution_count": 23,
      "outputs": [
        {
          "output_type": "execute_result",
          "data": {
            "text/plain": [
              "float"
            ]
          },
          "metadata": {
            "tags": []
          },
          "execution_count": 23
        }
      ]
    },
    {
      "cell_type": "code",
      "metadata": {
        "colab": {
          "base_uri": "https://localhost:8080/"
        },
        "id": "3tj-NDoS0T24",
        "outputId": "7fdc5e29-35ea-4b8d-d9f3-c1b986240e88"
      },
      "source": [
        "# Configuración del sistema sobre el tipo de flotante\n",
        "\n",
        "sys.float_info"
      ],
      "execution_count": 24,
      "outputs": [
        {
          "output_type": "execute_result",
          "data": {
            "text/plain": [
              "sys.float_info(max=1.7976931348623157e+308, max_exp=1024, max_10_exp=308, min=2.2250738585072014e-308, min_exp=-1021, min_10_exp=-307, dig=15, mant_dig=53, epsilon=2.220446049250313e-16, radix=2, rounds=1)"
            ]
          },
          "metadata": {
            "tags": []
          },
          "execution_count": 24
        }
      ]
    },
    {
      "cell_type": "markdown",
      "metadata": {
        "id": "QjWdGi-r0T24"
      },
      "source": [
        "<h3 id=\"convertir\">Cómo convertir de un tipo de objeto a otro tipo de objeto</h3>"
      ]
    },
    {
      "cell_type": "markdown",
      "metadata": {
        "id": "p9ydwI7R0T25"
      },
      "source": [
        "<p>Se puede cambiar el tipo de objeto en Python, lo cual se denomina typecasting. Por ejemplo, puede convertir un <i>entero</i> en un <i>flotante</i> (por ejemplo, de 2 a 2.0). </p>\n",
        "<p>Probemos:</p>"
      ]
    },
    {
      "cell_type": "code",
      "metadata": {
        "colab": {
          "base_uri": "https://localhost:8080/"
        },
        "id": "PRSGFcLP0T25",
        "outputId": "f77389f5-c449-454d-a00a-78a1262bf4d6"
      },
      "source": [
        "# Verificar que este sea un entero\n",
        "\n",
        "type(2)"
      ],
      "execution_count": 25,
      "outputs": [
        {
          "output_type": "execute_result",
          "data": {
            "text/plain": [
              "int"
            ]
          },
          "metadata": {
            "tags": []
          },
          "execution_count": 25
        }
      ]
    },
    {
      "cell_type": "markdown",
      "metadata": {
        "id": "XK4uH-KE0T25"
      },
      "source": [
        "<h4>Cómo convertir enteros en flotantes</h4>\n",
        "<p>Vamos a convertir el número entero 2 en un flotante:</p>"
      ]
    },
    {
      "cell_type": "code",
      "metadata": {
        "colab": {
          "base_uri": "https://localhost:8080/"
        },
        "id": "VT5ohDGw0T25",
        "outputId": "9f478d5e-6bfb-49d7-e6da-304c8bff1f5d"
      },
      "source": [
        "# Convertir 2 en un flotante\n",
        "\n",
        "float(2)"
      ],
      "execution_count": 26,
      "outputs": [
        {
          "output_type": "execute_result",
          "data": {
            "text/plain": [
              "2.0"
            ]
          },
          "metadata": {
            "tags": []
          },
          "execution_count": 26
        }
      ]
    },
    {
      "cell_type": "code",
      "metadata": {
        "colab": {
          "base_uri": "https://localhost:8080/"
        },
        "id": "9oRzr6xV0T25",
        "outputId": "16f987ef-a3bc-439a-cc44-baf330547a27"
      },
      "source": [
        "# Convertir el entero 2 en un flotante y verificar su tipo\n",
        "\n",
        "type(float(2))"
      ],
      "execution_count": 27,
      "outputs": [
        {
          "output_type": "execute_result",
          "data": {
            "text/plain": [
              "float"
            ]
          },
          "metadata": {
            "tags": []
          },
          "execution_count": 27
        }
      ]
    },
    {
      "cell_type": "markdown",
      "metadata": {
        "id": "TYDbMZ9y0T25"
      },
      "source": [
        "<p>Cuando convertimos un número entero en un flotante, en realidad no cambiamos el valor (es decir, la mantisa) del número. Sin embargo, si convertimos un flotante en un número entero, podríamos perder cierta información. Por ejemplo, si convertimos el flotante 1.1 en un número entero, obtendremos 1 y perderemos la información decimal (es decir, 0.1):</p>"
      ]
    },
    {
      "cell_type": "code",
      "metadata": {
        "colab": {
          "base_uri": "https://localhost:8080/"
        },
        "id": "cPpWiKAF0T25",
        "outputId": "62419a21-fd3e-4db5-8924-a107d987e0b4"
      },
      "source": [
        "# Convertir 1.1 en un número entero dará como resultado la pérdida de información\n",
        "\n",
        "int(1.1)"
      ],
      "execution_count": 28,
      "outputs": [
        {
          "output_type": "execute_result",
          "data": {
            "text/plain": [
              "1"
            ]
          },
          "metadata": {
            "tags": []
          },
          "execution_count": 28
        }
      ]
    },
    {
      "cell_type": "markdown",
      "metadata": {
        "id": "r3cmUbR-0T25"
      },
      "source": [
        "<h4>Cómo convertir cadenas en enteros o flotantes</h4>"
      ]
    },
    {
      "cell_type": "markdown",
      "metadata": {
        "id": "Uzip3Y9_0T25"
      },
      "source": [
        "<p>En ocasiones, podemos tener una cadena que contiene un número dentro de ella. Si este es el caso, podemos convertir dicha cadena que representa un número en un entero utilizando <code>int()</code>:</p>"
      ]
    },
    {
      "cell_type": "code",
      "metadata": {
        "colab": {
          "base_uri": "https://localhost:8080/"
        },
        "id": "qQUFvkYJ0T26",
        "outputId": "7e0f5a53-a286-43dd-de12-8bd2ff1b334f"
      },
      "source": [
        "# Convertir una cadena en un entero\n",
        "\n",
        "int('1')"
      ],
      "execution_count": 29,
      "outputs": [
        {
          "output_type": "execute_result",
          "data": {
            "text/plain": [
              "1"
            ]
          },
          "metadata": {
            "tags": []
          },
          "execution_count": 29
        }
      ]
    },
    {
      "cell_type": "markdown",
      "metadata": {
        "id": "DsnSeINE0T26"
      },
      "source": [
        "<p>Sin embargo, si intenta hacerlo con una cadena que no es una combinación perfecta para un número, obtendrá un error. Intente lo siguiente:</p>"
      ]
    },
    {
      "cell_type": "code",
      "metadata": {
        "colab": {
          "base_uri": "https://localhost:8080/",
          "height": 198
        },
        "id": "47D08DOD0T26",
        "outputId": "c664efe4-5fb3-4867-b810-49093f061612"
      },
      "source": [
        "# Convertir una cadena en un entero con error\n",
        "\n",
        "int('1 or 2 people')"
      ],
      "execution_count": 30,
      "outputs": [
        {
          "output_type": "error",
          "ename": "ValueError",
          "evalue": "ignored",
          "traceback": [
            "\u001b[0;31m---------------------------------------------------------------------------\u001b[0m",
            "\u001b[0;31mValueError\u001b[0m                                Traceback (most recent call last)",
            "\u001b[0;32m<ipython-input-30-2122bbec76f9>\u001b[0m in \u001b[0;36m<module>\u001b[0;34m()\u001b[0m\n\u001b[1;32m      1\u001b[0m \u001b[0;31m# Convertir una cadena en un entero con error\u001b[0m\u001b[0;34m\u001b[0m\u001b[0;34m\u001b[0m\u001b[0;34m\u001b[0m\u001b[0m\n\u001b[1;32m      2\u001b[0m \u001b[0;34m\u001b[0m\u001b[0m\n\u001b[0;32m----> 3\u001b[0;31m \u001b[0mint\u001b[0m\u001b[0;34m(\u001b[0m\u001b[0;34m'1 or 2 people'\u001b[0m\u001b[0;34m)\u001b[0m\u001b[0;34m\u001b[0m\u001b[0;34m\u001b[0m\u001b[0m\n\u001b[0m",
            "\u001b[0;31mValueError\u001b[0m: invalid literal for int() with base 10: '1 or 2 people'"
          ]
        }
      ]
    },
    {
      "cell_type": "markdown",
      "metadata": {
        "id": "j_zKV_fa0T26"
      },
      "source": [
        "<p>También puede convertir cadenas que contienen números de punto flotante en objetos de <i>flotantes</i>:</p>"
      ]
    },
    {
      "cell_type": "code",
      "metadata": {
        "colab": {
          "base_uri": "https://localhost:8080/"
        },
        "id": "bsymzK5j0T26",
        "outputId": "a95658ba-db35-4b84-a36f-61d1da188fc9"
      },
      "source": [
        "# Convertir la cadena \"1.2\" en un flotante\n",
        "\n",
        "float('1.2')"
      ],
      "execution_count": 31,
      "outputs": [
        {
          "output_type": "execute_result",
          "data": {
            "text/plain": [
              "1.2"
            ]
          },
          "metadata": {
            "tags": []
          },
          "execution_count": 31
        }
      ]
    },
    {
      "cell_type": "markdown",
      "metadata": {
        "id": "qWUBL5fr0T26"
      },
      "source": [
        "<hr/>\n",
        "<div class=\"alert alert-success alertsuccess\" style=\"margin-top: 20px\">\n",
        "    [Consejo:] Tenga en cuenta que las cadenas se pueden representar con comillas simples (<code>'1.2'</code>) o comillas dobles (<code>\"1.2\"</code>), pero no puede mezclar ambas (por ejemplo, <code>\"1.2'</code>).\n",
        "</div>\n",
        "<hr/>"
      ]
    },
    {
      "cell_type": "markdown",
      "metadata": {
        "id": "HcoO4Yca0T26"
      },
      "source": [
        "<h4>Cómo convertir números a cadenas</h4>"
      ]
    },
    {
      "cell_type": "markdown",
      "metadata": {
        "id": "n5u6KfkA0T26"
      },
      "source": [
        "<p>Si podemos convertir cadenas en números, es natural suponer que podemos convertir números en cadenas, ¿verdad?</p>"
      ]
    },
    {
      "cell_type": "code",
      "metadata": {
        "colab": {
          "base_uri": "https://localhost:8080/",
          "height": 35
        },
        "id": "ScygDBhA0T26",
        "outputId": "33a0e068-8714-4f9d-c50a-8b6735187416"
      },
      "source": [
        "# Convertir un entero en una cadena\n",
        "\n",
        "str(1)"
      ],
      "execution_count": 32,
      "outputs": [
        {
          "output_type": "execute_result",
          "data": {
            "application/vnd.google.colaboratory.intrinsic+json": {
              "type": "string"
            },
            "text/plain": [
              "'1'"
            ]
          },
          "metadata": {
            "tags": []
          },
          "execution_count": 32
        }
      ]
    },
    {
      "cell_type": "markdown",
      "metadata": {
        "id": "ZTYDiSsl0T27"
      },
      "source": [
        "<p>Y no existe ninguna razón por la que no podamos hacer que los flotantes también se conviertan en cadenas:</p> "
      ]
    },
    {
      "cell_type": "code",
      "metadata": {
        "colab": {
          "base_uri": "https://localhost:8080/",
          "height": 35
        },
        "id": "47lsavXi0T27",
        "outputId": "0a9c0ca2-e8b8-46ff-daeb-816a4931b10e"
      },
      "source": [
        "# Convertir un flotante en una cadena\n",
        "\n",
        "str(1.2)"
      ],
      "execution_count": 33,
      "outputs": [
        {
          "output_type": "execute_result",
          "data": {
            "application/vnd.google.colaboratory.intrinsic+json": {
              "type": "string"
            },
            "text/plain": [
              "'1.2'"
            ]
          },
          "metadata": {
            "tags": []
          },
          "execution_count": 33
        }
      ]
    },
    {
      "cell_type": "markdown",
      "metadata": {
        "id": "EJi8Lspf0T27"
      },
      "source": [
        "<h3 id=\"bool\">Tipo de datos booleano</h3>"
      ]
    },
    {
      "cell_type": "markdown",
      "metadata": {
        "id": "_txySDgC0T27"
      },
      "source": [
        "<p>El <i>Booleano</i> es otro tipo importante en Python. Un objeto de tipo booleano puede tomar uno de dos valores: <code>Verdadero (True)</code> o <code>Falso (False)</code>:</p>"
      ]
    },
    {
      "cell_type": "code",
      "metadata": {
        "colab": {
          "base_uri": "https://localhost:8080/"
        },
        "id": "UAgR7zY50T27",
        "outputId": "fb0faceb-85c3-42f7-d2f7-c5f51713c89f"
      },
      "source": [
        "# Valor verdadero\n",
        "\n",
        "True"
      ],
      "execution_count": 34,
      "outputs": [
        {
          "output_type": "execute_result",
          "data": {
            "text/plain": [
              "True"
            ]
          },
          "metadata": {
            "tags": []
          },
          "execution_count": 34
        }
      ]
    },
    {
      "cell_type": "markdown",
      "metadata": {
        "id": "DQ7Lk3tt0T27"
      },
      "source": [
        "<p>Tenga en cuenta que el valor <code>True</code> lleva \"T\" mayúscula. Lo mismo ocurre con <code>False</code> (es decir, debe llevar la \"F\" mayúscula).</p>"
      ]
    },
    {
      "cell_type": "code",
      "metadata": {
        "colab": {
          "base_uri": "https://localhost:8080/"
        },
        "id": "YsJoR4i00T27",
        "outputId": "c83d6cc9-e336-42f4-c75a-ac0b408a820a"
      },
      "source": [
        "# Valor falso\n",
        "\n",
        "False"
      ],
      "execution_count": 35,
      "outputs": [
        {
          "output_type": "execute_result",
          "data": {
            "text/plain": [
              "False"
            ]
          },
          "metadata": {
            "tags": []
          },
          "execution_count": 35
        }
      ]
    },
    {
      "cell_type": "markdown",
      "metadata": {
        "id": "5gcVnfsH0T27"
      },
      "source": [
        "<p>Cuando usted le pide a Python que muestre el tipo de un objeto booleano se mostrará <code>bool</code> que significa <i>booleano</i>:</p> "
      ]
    },
    {
      "cell_type": "code",
      "metadata": {
        "colab": {
          "base_uri": "https://localhost:8080/"
        },
        "id": "H-7vyCWT0T27",
        "outputId": "41b5be36-af11-4d00-d5bd-842a0b165636"
      },
      "source": [
        "# Tipo de Verdadero\n",
        "\n",
        "type(True)"
      ],
      "execution_count": 36,
      "outputs": [
        {
          "output_type": "execute_result",
          "data": {
            "text/plain": [
              "bool"
            ]
          },
          "metadata": {
            "tags": []
          },
          "execution_count": 36
        }
      ]
    },
    {
      "cell_type": "code",
      "metadata": {
        "colab": {
          "base_uri": "https://localhost:8080/"
        },
        "id": "Q6udVkzY0T28",
        "outputId": "f8134a82-4ebc-436e-df0a-026e2377e88a"
      },
      "source": [
        "# Tipo de Falso\n",
        "\n",
        "type(False)"
      ],
      "execution_count": 37,
      "outputs": [
        {
          "output_type": "execute_result",
          "data": {
            "text/plain": [
              "bool"
            ]
          },
          "metadata": {
            "tags": []
          },
          "execution_count": 37
        }
      ]
    },
    {
      "cell_type": "markdown",
      "metadata": {
        "id": "vSuo_01v0T28"
      },
      "source": [
        "<p>Podemos convertir objetos booleanos en otros tipos de datos. Si convertimos un booleano con un valor de <code>Verdadero</code> en un entero o flotante, obtendremos un uno. Si convertimos un booleano con un valor de <code>Falso</code> en un entero o flotante, obtendremos un cero. Del mismo modo, si convertimos un 1 en un Booleano, se obtiene un <code>Verdadero</code>. Y si convertimos un 0 en un booleano, obtendremos un <code>Falso</code>. Probemos:</p> "
      ]
    },
    {
      "cell_type": "code",
      "metadata": {
        "colab": {
          "base_uri": "https://localhost:8080/"
        },
        "id": "ffP4SPMY0T28",
        "outputId": "cd2f7489-e2e2-438d-d2bb-b19a31d461e4"
      },
      "source": [
        "# Convertir Verdadero en int\n",
        "\n",
        "int(True)"
      ],
      "execution_count": 38,
      "outputs": [
        {
          "output_type": "execute_result",
          "data": {
            "text/plain": [
              "1"
            ]
          },
          "metadata": {
            "tags": []
          },
          "execution_count": 38
        }
      ]
    },
    {
      "cell_type": "code",
      "metadata": {
        "colab": {
          "base_uri": "https://localhost:8080/"
        },
        "id": "j3tzJzEY0T28",
        "outputId": "99947842-6f5e-4c38-dba3-b41938277a4d"
      },
      "source": [
        "# Convertir 1 en booleano\n",
        "\n",
        "bool(1)"
      ],
      "execution_count": 39,
      "outputs": [
        {
          "output_type": "execute_result",
          "data": {
            "text/plain": [
              "True"
            ]
          },
          "metadata": {
            "tags": []
          },
          "execution_count": 39
        }
      ]
    },
    {
      "cell_type": "code",
      "metadata": {
        "colab": {
          "base_uri": "https://localhost:8080/"
        },
        "id": "lIpHawKC0T28",
        "outputId": "63f5b94d-edb5-4853-9b82-9d1c068f6f61"
      },
      "source": [
        "# Convertir 0 en booleano\n",
        "\n",
        "bool(0)"
      ],
      "execution_count": 40,
      "outputs": [
        {
          "output_type": "execute_result",
          "data": {
            "text/plain": [
              "False"
            ]
          },
          "metadata": {
            "tags": []
          },
          "execution_count": 40
        }
      ]
    },
    {
      "cell_type": "code",
      "metadata": {
        "colab": {
          "base_uri": "https://localhost:8080/"
        },
        "id": "JmAaZQKD0T28",
        "outputId": "25337749-50b1-4594-b325-fe49ceef78a0"
      },
      "source": [
        "# Convertir Verdadero en flotante\n",
        "\n",
        "float(True)"
      ],
      "execution_count": 41,
      "outputs": [
        {
          "output_type": "execute_result",
          "data": {
            "text/plain": [
              "1.0"
            ]
          },
          "metadata": {
            "tags": []
          },
          "execution_count": 41
        }
      ]
    },
    {
      "cell_type": "markdown",
      "metadata": {
        "id": "9oVvMCKn0T28"
      },
      "source": [
        "<h3 id=\"ejer_tipo\">Ejercicio: Tipos</h3>"
      ]
    },
    {
      "cell_type": "markdown",
      "metadata": {
        "id": "p16PUCfH0T28"
      },
      "source": [
        "<p>¿Cuál es el tipo de datos del resultado de  <code>6 / 2</code>?</p>"
      ]
    },
    {
      "cell_type": "code",
      "metadata": {
        "colab": {
          "base_uri": "https://localhost:8080/"
        },
        "id": "awDqGveL0T28",
        "outputId": "7baba756-01e6-4c60-80f1-f903b7e453e3"
      },
      "source": [
        "# Escriba su código abajo. No olvide presionar Shift+Enter para ejecutar la celda.\n",
        "type(6/2)"
      ],
      "execution_count": 43,
      "outputs": [
        {
          "output_type": "execute_result",
          "data": {
            "text/plain": [
              "float"
            ]
          },
          "metadata": {
            "tags": []
          },
          "execution_count": 43
        }
      ]
    },
    {
      "cell_type": "markdown",
      "metadata": {
        "id": "cVoZq1990T29"
      },
      "source": [
        "Haga doble clic __aquí__ para ver la solución.\n",
        "\n",
        "<!-- Su respuesta aparece a continuación:\n",
        "type(6/2) # float\n",
        "-->"
      ]
    },
    {
      "cell_type": "markdown",
      "metadata": {
        "id": "NbDq2Och0T29"
      },
      "source": [
        "<p>¿Cuál es el tipo del resultado de <code>6 // 2</code>? (Tenga en cuenta la doble barra <code>//</code>.)</p>"
      ]
    },
    {
      "cell_type": "code",
      "metadata": {
        "colab": {
          "base_uri": "https://localhost:8080/"
        },
        "id": "Amdv4nAg0T29",
        "outputId": "624e6f19-4ce5-45ca-9a27-fd3e8b59189a"
      },
      "source": [
        "# Escriba su código abajo. No olvide presionar Shift+Enter para ejecutar la celda.\n",
        "type(6//2)"
      ],
      "execution_count": 44,
      "outputs": [
        {
          "output_type": "execute_result",
          "data": {
            "text/plain": [
              "int"
            ]
          },
          "metadata": {
            "tags": []
          },
          "execution_count": 44
        }
      ]
    },
    {
      "cell_type": "markdown",
      "metadata": {
        "id": "8DV3GVEX0T29"
      },
      "source": [
        "Haga doble clic __aquí__ para ver la solución.\n",
        "\n",
        "<!-- Su respuesta aparece a continuación:\n",
        "type(6//2) # int, ya que las barras dobles representan la división entera \n",
        "-->"
      ]
    },
    {
      "cell_type": "markdown",
      "metadata": {
        "id": "YQwPsfCx0T29"
      },
      "source": [
        "<hr>"
      ]
    },
    {
      "cell_type": "markdown",
      "metadata": {
        "id": "FMq-qoa20T29"
      },
      "source": [
        "<h2 id=\"expresiones\">Expresión y variables</h2>"
      ]
    },
    {
      "cell_type": "markdown",
      "metadata": {
        "id": "BIyFL17-0T29"
      },
      "source": [
        "<h3 id=\"exp\">Expresiones</h3>"
      ]
    },
    {
      "cell_type": "markdown",
      "metadata": {
        "id": "c6gshvN00T29"
      },
      "source": [
        "<p>Las expresiones en Python pueden incluir operaciones entre tipos compatibles (por ejemplo, enteros y flotantes). Por ejemplo, operaciones aritméticas básicas como sumar números múltiples:</p>"
      ]
    },
    {
      "cell_type": "code",
      "metadata": {
        "colab": {
          "base_uri": "https://localhost:8080/"
        },
        "id": "C9-R_gs10T29",
        "outputId": "c943aafd-8e7d-4656-8930-dcb3c6461304"
      },
      "source": [
        "# Expresión de operación de suma\n",
        "\n",
        "43 + 60 + 16 + 41"
      ],
      "execution_count": 45,
      "outputs": [
        {
          "output_type": "execute_result",
          "data": {
            "text/plain": [
              "160"
            ]
          },
          "metadata": {
            "tags": []
          },
          "execution_count": 45
        }
      ]
    },
    {
      "cell_type": "markdown",
      "metadata": {
        "id": "tAgRRUPB0T2-"
      },
      "source": [
        "<p>Podemos realizar operaciones de resta utilizando el operador menos. En este caso, el resultado es un número negativo:</p>"
      ]
    },
    {
      "cell_type": "code",
      "metadata": {
        "colab": {
          "base_uri": "https://localhost:8080/"
        },
        "id": "y_HO-VaT0T2-",
        "outputId": "7ae3aec9-8e9f-48f3-a4cb-f294c67f5db4"
      },
      "source": [
        "# Expresión de operación de resta\n",
        "\n",
        "50 - 60"
      ],
      "execution_count": 46,
      "outputs": [
        {
          "output_type": "execute_result",
          "data": {
            "text/plain": [
              "-10"
            ]
          },
          "metadata": {
            "tags": []
          },
          "execution_count": 46
        }
      ]
    },
    {
      "cell_type": "markdown",
      "metadata": {
        "id": "yxgCIO1k0T2-"
      },
      "source": [
        "<p>Podemos realizar multiplicaciones usando un asterisco:</p>"
      ]
    },
    {
      "cell_type": "code",
      "metadata": {
        "colab": {
          "base_uri": "https://localhost:8080/"
        },
        "id": "FyrAlblk0T2-",
        "outputId": "dae31935-babf-4642-bdba-c73d97997780"
      },
      "source": [
        "# Expresión de operación de multiplicación\n",
        "\n",
        "5 * 5"
      ],
      "execution_count": 47,
      "outputs": [
        {
          "output_type": "execute_result",
          "data": {
            "text/plain": [
              "25"
            ]
          },
          "metadata": {
            "tags": []
          },
          "execution_count": 47
        }
      ]
    },
    {
      "cell_type": "markdown",
      "metadata": {
        "id": "u05Yt23y0T2-"
      },
      "source": [
        "<p>También, podemos realizar divisiones con la barra:"
      ]
    },
    {
      "cell_type": "code",
      "metadata": {
        "colab": {
          "base_uri": "https://localhost:8080/"
        },
        "id": "HiuEjZ4d0T2-",
        "outputId": "489fc2c5-758a-4f7e-8ad6-48fa8cb3d7bc"
      },
      "source": [
        "# Expresión de operación de división\n",
        "\n",
        "25 / 5"
      ],
      "execution_count": 48,
      "outputs": [
        {
          "output_type": "execute_result",
          "data": {
            "text/plain": [
              "5.0"
            ]
          },
          "metadata": {
            "tags": []
          },
          "execution_count": 48
        }
      ]
    },
    {
      "cell_type": "code",
      "metadata": {
        "colab": {
          "base_uri": "https://localhost:8080/"
        },
        "id": "qvawhANB0T2-",
        "outputId": "247f4026-ddc8-4f1c-8205-3565988605b1"
      },
      "source": [
        "# Expresión de operación de división\n",
        "\n",
        "25 / 6"
      ],
      "execution_count": 49,
      "outputs": [
        {
          "output_type": "execute_result",
          "data": {
            "text/plain": [
              "4.166666666666667"
            ]
          },
          "metadata": {
            "tags": []
          },
          "execution_count": 49
        }
      ]
    },
    {
      "cell_type": "markdown",
      "metadata": {
        "id": "Z9JR3ZjH0T2_"
      },
      "source": [
        "<p>Como observamos en el cuestionario anterior, podemos usar la barra doble para la división de enteros, donde el resultado se redondea al entero más cercano:"
      ]
    },
    {
      "cell_type": "code",
      "metadata": {
        "colab": {
          "base_uri": "https://localhost:8080/"
        },
        "id": "E9i4Ofay0T2_",
        "outputId": "5790c254-23f6-4dd8-d7d2-84223ce03491"
      },
      "source": [
        "# Expresión de operación de división de números enteros\n",
        "\n",
        "25 // 5"
      ],
      "execution_count": 50,
      "outputs": [
        {
          "output_type": "execute_result",
          "data": {
            "text/plain": [
              "5"
            ]
          },
          "metadata": {
            "tags": []
          },
          "execution_count": 50
        }
      ]
    },
    {
      "cell_type": "code",
      "metadata": {
        "colab": {
          "base_uri": "https://localhost:8080/"
        },
        "id": "cmDOXzTA0T2_",
        "outputId": "52128331-d266-4782-b4be-b34f5de51666"
      },
      "source": [
        "# Expresión de operación de división de números enteros\n",
        "\n",
        "25 // 6"
      ],
      "execution_count": 51,
      "outputs": [
        {
          "output_type": "execute_result",
          "data": {
            "text/plain": [
              "4"
            ]
          },
          "metadata": {
            "tags": []
          },
          "execution_count": 51
        }
      ]
    },
    {
      "cell_type": "markdown",
      "metadata": {
        "id": "N_fj3DJp0T2_"
      },
      "source": [
        "<h3 id=\"ejer_exp\">Ejercicio: Expresión</h3>"
      ]
    },
    {
      "cell_type": "markdown",
      "metadata": {
        "id": "qrbEcka20T2_"
      },
      "source": [
        "<p>Escribamos una expresión que calcule cuántas horas hay en 160 minutos:"
      ]
    },
    {
      "cell_type": "code",
      "metadata": {
        "colab": {
          "base_uri": "https://localhost:8080/"
        },
        "id": "ToNe7pmo0T2_",
        "outputId": "2cefb5d4-8e2e-472a-8ba1-b884a9e4edde"
      },
      "source": [
        "# Escriba su código abajo. No olvide presionar Shift+Enter para ejecutar la celda.\n",
        "160 / 60"
      ],
      "execution_count": 52,
      "outputs": [
        {
          "output_type": "execute_result",
          "data": {
            "text/plain": [
              "2.6666666666666665"
            ]
          },
          "metadata": {
            "tags": []
          },
          "execution_count": 52
        }
      ]
    },
    {
      "cell_type": "markdown",
      "metadata": {
        "id": "ipJF9gdH0T2_"
      },
      "source": [
        "Haga doble clic __aquí__ para ver la solución.\n",
        "\n",
        "<!-- Su respuesta aparece a continuación:\n",
        "160/60 \n",
        "# O bien \n",
        "160//60\n",
        "-->"
      ]
    },
    {
      "cell_type": "markdown",
      "metadata": {
        "id": "yZj0-W3-0T2_"
      },
      "source": [
        "<p>Python sigue las convenciones matemáticas reconocidas al evaluar expresiones matemáticas. En el siguiente ejemplo, Python suma 30 al resultado de la multiplicación (es decir, 120)."
      ]
    },
    {
      "cell_type": "code",
      "metadata": {
        "colab": {
          "base_uri": "https://localhost:8080/"
        },
        "id": "WpON3YzA0T2_",
        "outputId": "e14ba610-8ccf-412a-e6ca-9863e99cbd1e"
      },
      "source": [
        "# Expresión matemática\n",
        "\n",
        "30 + 2 * 60"
      ],
      "execution_count": 53,
      "outputs": [
        {
          "output_type": "execute_result",
          "data": {
            "text/plain": [
              "150"
            ]
          },
          "metadata": {
            "tags": []
          },
          "execution_count": 53
        }
      ]
    },
    {
      "cell_type": "markdown",
      "metadata": {
        "id": "1EyQvcft0T2_"
      },
      "source": [
        "<p>Y al igual que en las matemáticas, las expresiones entre paréntesis tienen prioridad. Por ende, a continuación se multiplica 32 por 60."
      ]
    },
    {
      "cell_type": "code",
      "metadata": {
        "colab": {
          "base_uri": "https://localhost:8080/"
        },
        "id": "nfRUtWLf0T3A",
        "outputId": "3ee6cab8-ba45-4e5b-e7b8-0312f05c52c6"
      },
      "source": [
        "# Expresión matemática\n",
        "\n",
        "(30 + 2) * 60"
      ],
      "execution_count": 54,
      "outputs": [
        {
          "output_type": "execute_result",
          "data": {
            "text/plain": [
              "1920"
            ]
          },
          "metadata": {
            "tags": []
          },
          "execution_count": 54
        }
      ]
    },
    {
      "cell_type": "markdown",
      "metadata": {
        "id": "X1AMKyGD0T3A"
      },
      "source": [
        "<h3 id=\"var\">Variables</h3>"
      ]
    },
    {
      "cell_type": "markdown",
      "metadata": {
        "id": "8KOwOGCJ0T3A"
      },
      "source": [
        "<p>Al igual que con la mayoría de los lenguajes de programación, podemos almacenar valores en las <i>variables</i> para poder usarlos más adelante. Por ejemplo:</p>"
      ]
    },
    {
      "cell_type": "code",
      "metadata": {
        "id": "PyOFvcta0T3A"
      },
      "source": [
        "# Almacenar valor en variable\n",
        "\n",
        "x = 43 + 60 + 16 + 41"
      ],
      "execution_count": 56,
      "outputs": []
    },
    {
      "cell_type": "markdown",
      "metadata": {
        "id": "ZE-nAP8j0T3A"
      },
      "source": [
        "<p>Para ver el valor de <code>x</code> en un \"Jupyter Notebooks\", simplemente podemos colocarlo en la última línea de una celda:</p>"
      ]
    },
    {
      "cell_type": "code",
      "metadata": {
        "colab": {
          "base_uri": "https://localhost:8080/"
        },
        "id": "i3OjEzGh0T3A",
        "outputId": "cb6d1beb-de7c-47bf-98f8-914ad675803d"
      },
      "source": [
        "# Escribir el valor en variable\n",
        "\n",
        "x"
      ],
      "execution_count": 57,
      "outputs": [
        {
          "output_type": "execute_result",
          "data": {
            "text/plain": [
              "160"
            ]
          },
          "metadata": {
            "tags": []
          },
          "execution_count": 57
        }
      ]
    },
    {
      "cell_type": "markdown",
      "metadata": {
        "id": "B1vVVskp0T3A"
      },
      "source": [
        "<p>We can also perform operations También podemos realizar operaciones con <code>x</code> y guardar el resultado en una nueva variable:</p>"
      ]
    },
    {
      "cell_type": "code",
      "metadata": {
        "colab": {
          "base_uri": "https://localhost:8080/"
        },
        "id": "cJc4vW_G0T3A",
        "outputId": "af5c0cfd-6493-4c11-aa23-18fa3bee6123"
      },
      "source": [
        "# Usar otra variable para almacenar el resultado de la operación entre la variable y el valor\n",
        "\n",
        "y = x / 60\n",
        "y"
      ],
      "execution_count": 58,
      "outputs": [
        {
          "output_type": "execute_result",
          "data": {
            "text/plain": [
              "2.6666666666666665"
            ]
          },
          "metadata": {
            "tags": []
          },
          "execution_count": 58
        }
      ]
    },
    {
      "cell_type": "markdown",
      "metadata": {
        "id": "hMAJ5TCH0T3A"
      },
      "source": [
        "<p>Si guardamos un valor en una variable existente, el nuevo valor sobrescribirá el valor anterior:</p>"
      ]
    },
    {
      "cell_type": "code",
      "metadata": {
        "colab": {
          "base_uri": "https://localhost:8080/"
        },
        "id": "SMlRnCnR0T3B",
        "outputId": "4e65b332-3cd6-4ef0-cacf-34e91f68fa98"
      },
      "source": [
        "# Sobrescribir la variable con un nuevo valor\n",
        "\n",
        "x = x / 60\n",
        "x"
      ],
      "execution_count": 59,
      "outputs": [
        {
          "output_type": "execute_result",
          "data": {
            "text/plain": [
              "2.6666666666666665"
            ]
          },
          "metadata": {
            "tags": []
          },
          "execution_count": 59
        }
      ]
    },
    {
      "cell_type": "markdown",
      "metadata": {
        "id": "i0Gbs8Nc0T3B"
      },
      "source": [
        "<p>Es una buena práctica usar nombres de variables significativos para que usted y otros puedan leer el código y entenderlo más fácilmente:</p>"
      ]
    },
    {
      "cell_type": "code",
      "metadata": {
        "colab": {
          "base_uri": "https://localhost:8080/"
        },
        "id": "ejbjk9I-0T3B",
        "outputId": "764d24fb-76b0-4cbc-bf1f-876896a88c0b"
      },
      "source": [
        "# Nombrar las variables de manera significativa\n",
        "\n",
        "total_min = 43 + 42 + 57 # Longitud total de álbumes en minutos\n",
        "total_min"
      ],
      "execution_count": 60,
      "outputs": [
        {
          "output_type": "execute_result",
          "data": {
            "text/plain": [
              "142"
            ]
          },
          "metadata": {
            "tags": []
          },
          "execution_count": 60
        }
      ]
    },
    {
      "cell_type": "code",
      "metadata": {
        "colab": {
          "base_uri": "https://localhost:8080/"
        },
        "id": "-jX4uzml0T3B",
        "outputId": "c617cb30-29fd-4b77-cd24-7834cdebe9fb"
      },
      "source": [
        "# Nombrar las variables de manera significativa\n",
        "\n",
        "total_hours = total_min / 60 # Longitud total de álbumes en horas\n",
        "total_hours"
      ],
      "execution_count": 61,
      "outputs": [
        {
          "output_type": "execute_result",
          "data": {
            "text/plain": [
              "2.3666666666666667"
            ]
          },
          "metadata": {
            "tags": []
          },
          "execution_count": 61
        }
      ]
    },
    {
      "cell_type": "markdown",
      "metadata": {
        "id": "Jil0DA0n0T3B"
      },
      "source": [
        "<p>En las celdas de arriba agregamos la longitud de tres álbumes en minutos y lo almacenamos en <code>total_min</code>. Luego, lo dividimos por 60 para calcular la longitud total <code>total_hours</code> en horas. También puede hacerlo todo de una vez en una sola expresión, siempre que use paréntesis para agregar la longitud de los álbumes antes de dividir, como se muestra a continuación.</p>"
      ]
    },
    {
      "cell_type": "code",
      "metadata": {
        "colab": {
          "base_uri": "https://localhost:8080/"
        },
        "id": "XVGW30n90T3B",
        "outputId": "63b5fbb2-115d-43a7-f2bc-69ff07af2237"
      },
      "source": [
        "# Expresión complicada\n",
        "\n",
        "total_hours = (43 + 42 + 57) / 60  # Total de horas en una única \n",
        "total_hours"
      ],
      "execution_count": 62,
      "outputs": [
        {
          "output_type": "execute_result",
          "data": {
            "text/plain": [
              "2.3666666666666667"
            ]
          },
          "metadata": {
            "tags": []
          },
          "execution_count": 62
        }
      ]
    },
    {
      "cell_type": "markdown",
      "metadata": {
        "id": "eeR7Uph30T3B"
      },
      "source": [
        "<p>Si prefiere tener el total de horas como un entero, por supuesto puede reemplazar la división de punto flotante con una división de número entero (es decir, <code>//</code>).</p>"
      ]
    },
    {
      "cell_type": "markdown",
      "metadata": {
        "id": "BkNDz07W0T3B"
      },
      "source": [
        "<h3 id=\"ejer_exp_var\">Ejercicio: Expresión y variables en Python</h3>"
      ]
    },
    {
      "cell_type": "markdown",
      "metadata": {
        "id": "M_3ITBvq0T3B"
      },
      "source": [
        "<p>¿Cuál es el valor de <code>x</code> en el que <code>x = 3 + 2 * 2</code></p>"
      ]
    },
    {
      "cell_type": "code",
      "metadata": {
        "colab": {
          "base_uri": "https://localhost:8080/"
        },
        "id": "1fXOyvzt0T3C",
        "outputId": "0cd6ea06-5ace-47eb-8da8-365a49e4a211"
      },
      "source": [
        "# Escriba su código abajo. No olvide presionar Shift+Enter para ejecutar la celda.\n",
        "x = 3 + 2 * 2\n",
        "x"
      ],
      "execution_count": 64,
      "outputs": [
        {
          "output_type": "execute_result",
          "data": {
            "text/plain": [
              "7"
            ]
          },
          "metadata": {
            "tags": []
          },
          "execution_count": 64
        }
      ]
    },
    {
      "cell_type": "markdown",
      "metadata": {
        "id": "NfCIn6mB0T3C"
      },
      "source": [
        "Haga doble clic __aquí__ para ver la solución.\n",
        "\n",
        "<!-- Su respuesta aparece a continuación:\n",
        "7\n",
        "-->\n"
      ]
    },
    {
      "cell_type": "markdown",
      "metadata": {
        "id": "sSsMv7Km0T3C"
      },
      "source": [
        "<p>¿Cuál es el valor de <code>y</code> en el que <code>y = (3 + 2) * 2</code>?</p>"
      ]
    },
    {
      "cell_type": "code",
      "metadata": {
        "colab": {
          "base_uri": "https://localhost:8080/"
        },
        "id": "FZU5pX-G0T3C",
        "outputId": "381ffeef-b243-43ab-c783-3dc8e651cddc"
      },
      "source": [
        "# Escriba su código abajo. No olvide presionar Shift+Enter para ejecutar la celda.\n",
        "y = (3 + 2) * 2\n",
        "y"
      ],
      "execution_count": 65,
      "outputs": [
        {
          "output_type": "execute_result",
          "data": {
            "text/plain": [
              "10"
            ]
          },
          "metadata": {
            "tags": []
          },
          "execution_count": 65
        }
      ]
    },
    {
      "cell_type": "markdown",
      "metadata": {
        "id": "L1X4qxN40T3C"
      },
      "source": [
        "Haga doble clic __aquí__ para ver la solución.\n",
        "\n",
        "<!-- Su respuesta aparece a continuación:\n",
        "10\n",
        "-->"
      ]
    },
    {
      "cell_type": "markdown",
      "metadata": {
        "id": "sdJ36bd90T3C"
      },
      "source": [
        "<p>¿Cuál es el valor de <code>z</code> en el que <code>z = x + y</code>?</p>"
      ]
    },
    {
      "cell_type": "code",
      "metadata": {
        "colab": {
          "base_uri": "https://localhost:8080/"
        },
        "id": "w37cwVOr0T3C",
        "outputId": "970a341c-80a8-4260-9813-053ba25326eb"
      },
      "source": [
        "# Escriba su código abajo. No olvide presionar Shift+Enter para ejecutar la celda.\n",
        "z = x + y\n",
        "z"
      ],
      "execution_count": 66,
      "outputs": [
        {
          "output_type": "execute_result",
          "data": {
            "text/plain": [
              "17"
            ]
          },
          "metadata": {
            "tags": []
          },
          "execution_count": 66
        }
      ]
    },
    {
      "cell_type": "markdown",
      "metadata": {
        "id": "wohi98o90T3C"
      },
      "source": [
        "Haga doble clic __aquí__ para ver la solución.\n",
        "\n",
        "<!-- Su respuesta aparece a continuación:\n",
        "17\n",
        "-->"
      ]
    },
    {
      "cell_type": "markdown",
      "metadata": {
        "id": "h7D7IJAN0T3C"
      },
      "source": [
        "<hr>\n",
        "<h2>¡El último ejercicio!</h2>\n",
        "<p>Felicitaciones, ha completado su primera lección y  laboratorio práctico en Python. Sin embargo, hay algo más que debes hacer. La comunidad de Data Science fomenta el trabajo compartido. La mejor manera de compartir y mostrar su trabajo es compartirlo en GitHub. Al compartir su \"Jupyter Notebook\" en GitHub, no solo está construyendo su reputación con otros científicos de datos, sino que también puede mostrarlo cuando solicita un trabajo. Aunque este fue su primer trabajo, nunca es demasiado temprano para comenzar a crear buenos hábitos. Por lo tanto, por favor lea y siga <a href=\"https://cognitiveclass.ai/blog/data-scientists-stand-out-by-sharing-your-notebooks/\" target=\"_blank\">este articulo</a> para aprender como compartir su trabajo.\n",
        "<hr>"
      ]
    },
    {
      "cell_type": "markdown",
      "metadata": {
        "id": "hWu9vAsJ0T3D"
      },
      "source": [
        "<div class=\"alert alert-block alert-info\" style=\"margin-top: 20px\">\n",
        "<h2>¡Obtenga IBM Watson Studio libre de cargo!</h2>\n",
        "    <p><a href=\"https://cocl.us/NotebooksPython101bottom\"><img src=\"https://s3-api.us-geo.objectstorage.softlayer.net/cf-courses-data/CognitiveClass/PY0101EN/Ad/BottomAd.png\" width=\"750\" align=\"center\"></a></p>\n",
        "</div>"
      ]
    },
    {
      "cell_type": "markdown",
      "metadata": {
        "id": "BqOnp1Au0T3D"
      },
      "source": [
        "<h3>Acerca de los autores</h3>  \n",
        "<p><a href=\"https://www.linkedin.com/in/joseph-s-50398b136/\" target=\"_blank\">Joseph Santarcangelo</a> es un Científico de Datos de IBM y ostenta un PhD en Ingeniería Eléctrica. Sus estudios están centrados en el uso de Machine Learning, Procesamiento de Señaoles y Visión por Ordenador para determinar como los videos impactan la cognición humana. Joseph ha trabajado para IBM desde que completó su PhD.</p>"
      ]
    },
    {
      "cell_type": "markdown",
      "metadata": {
        "id": "Z5B1_Js10T3D"
      },
      "source": [
        "Otros colaboradores: <a href=\"www.linkedin.com/in/jiahui-mavis-zhou-a4537814a\">Mavis Zhou</a>"
      ]
    },
    {
      "cell_type": "markdown",
      "metadata": {
        "id": "RKyy_NsW0T3D"
      },
      "source": [
        "<hr>\n",
        "<p>Derechos de autor &copy; 2018 IBM Developer Skills Network. Esta \"Jupyter Notebook\" y su código fuente se publican bajo los términos de la <a href=\"https://cognitiveclass.ai/mit-license/\">Licencia de MIT</a>.</p>"
      ]
    }
  ]
}
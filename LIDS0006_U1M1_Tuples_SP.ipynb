{
  "nbformat": 4,
  "nbformat_minor": 0,
  "metadata": {
    "kernelspec": {
      "display_name": "Python 3",
      "language": "python",
      "name": "python3"
    },
    "language_info": {
      "codemirror_mode": {
        "name": "ipython",
        "version": 3
      },
      "file_extension": ".py",
      "mimetype": "text/x-python",
      "name": "python",
      "nbconvert_exporter": "python",
      "pygments_lexer": "ipython3",
      "version": "3.6.8"
    },
    "colab": {
      "name": "LIDS0006_U1M1_Tuples_SP.ipynb",
      "provenance": [],
      "include_colab_link": true
    }
  },
  "cells": [
    {
      "cell_type": "markdown",
      "metadata": {
        "id": "view-in-github",
        "colab_type": "text"
      },
      "source": [
        "<a href=\"https://colab.research.google.com/github/Eduardo-Lujan/myFirstRepo/blob/master/LIDS0006_U1M1_Tuples_SP.ipynb\" target=\"_parent\"><img src=\"https://colab.research.google.com/assets/colab-badge.svg\" alt=\"Open In Colab\"/></a>"
      ]
    },
    {
      "cell_type": "markdown",
      "metadata": {
        "id": "FgCDV71J-60m"
      },
      "source": [
        "<div class=\"alert alert-block alert-info\" style=\"margin-top: 20px\">\n",
        "    <a href=\"https://cocl.us/NotebooksPython101\">\n",
        "         <img src=\"https://s3-api.us-geo.objectstorage.softlayer.net/cf-courses-data/CognitiveClass/PY0101EN/Ad/TopAd.png\" width=\"750\" align=\"center\">\n",
        "    </a>\n",
        "</div>"
      ]
    },
    {
      "cell_type": "markdown",
      "metadata": {
        "id": "qrar9O-U-60r"
      },
      "source": [
        "<a href=\"https://cognitiveclass.ai/\">\n",
        "    <img src=\"https://s3-api.us-geo.objectstorage.softlayer.net/cf-courses-data/CognitiveClass/PY0101EN/Ad/CCLog.png\" width=\"200\" align=\"center\">\n",
        "</a>"
      ]
    },
    {
      "cell_type": "markdown",
      "metadata": {
        "id": "3sZR-K3V-60r"
      },
      "source": [
        "<h1>Tuplas en Python</h1>"
      ]
    },
    {
      "cell_type": "markdown",
      "metadata": {
        "id": "9KYlxsXN-60s"
      },
      "source": [
        "<p><strong>¡Bienvenido!</strong> En este cuaderno aprenderá acerca de las tuplas en el lenguaje de programación Python. Al final de esta actividad de laboratorio conocerá las operaciones de tuplas básicas en Python, incluidas la indexación, segmentación y clasificación.</p> "
      ]
    },
    {
      "cell_type": "markdown",
      "metadata": {
        "id": "8oVdoMZV-60s"
      },
      "source": [
        "<h2>Índice</h2>\n",
        "<div class=\"alert alert-block alert-info\" style=\"margin-top: 20px\">\n",
        "    <ul>\n",
        "        <li>\n",
        "            <a href=\"#dataset\">Acerca del conjunto de datos </a>\n",
        "        </li>\n",
        "        <li>\n",
        "            <a href=\"#tuple\">Tuplas</a>\n",
        "            <ul>\n",
        "                <li><a href=\"index\">Indexación</a></li>\n",
        "                <li><a href=\"slice\">Segmentación</a></li>\n",
        "                <li><a href=\"sort\">Clasificación</a></li>\n",
        "            </ul>\n",
        "        </li>\n",
        "        <li>\n",
        "            <a href=\"#escape\">Cuestionario sobre tuplas</a>\n",
        "        </li>\n",
        "    </ul>\n",
        "    <p>\n",
        "        Tiempo estimado necesario: <strong>15 min</strong>\n",
        "    </p>\n",
        "</div>\n",
        "\n",
        "<hr>"
      ]
    },
    {
      "cell_type": "markdown",
      "metadata": {
        "id": "CCXwPc0U-60s"
      },
      "source": [
        "<h2 id=\"dataset\">Acerca del conjunto de datos</h2>"
      ]
    },
    {
      "cell_type": "markdown",
      "metadata": {
        "id": "jiB0ThS7-60s"
      },
      "source": [
        "Imagine que recibió recomendaciones de álbumes de música de sus amigos y que las compiló todas en una tabla con información específica sobre cada álbum.\n",
        "\n",
        "La tabla tiene una fila para cada álbum y varias columnas:\n",
        "- **artist** - Nombre del artista\n",
        "- **album** - Nombre del álbum\n",
        "- **released_year** - Año de publicación del álbum\n",
        "- **length_min_sec** - Duración del álbum (horas, minutos, segundos)\n",
        "- **genre** - Género del álbum\n",
        "- **music_recording_sales_millions** - Ventas discográficas (en millones de dólares) en [SONG://DATABASE](http://www.song-database.com/)\n",
        "- **claimed_sales_millions** - Ventas declaradas del álbum (en millones de dólares) en [SONG://DATABASE](http://www.song-database.com/)\n",
        "- **date_released** - Fecha en la que se publicó el álbum\n",
        "- **soundtrack** - Indica si el álbum es la banda sonora de una película (Sí) o (No)\n",
        "- **rating_of_friends** - Indica la calificación de sus amigos de 1 a 10\n",
        "<br>\n",
        "<br>\n",
        "\n",
        "El conjunto de datos puede verse a continuación:\n",
        "\n",
        "<font size=\"1\">\n",
        "<table font-size:xx-small style=\"width:90%\">\n",
        "  <tr>\n",
        "    <th>Artista</th>\n",
        "    <th>Álbum</th> \n",
        "    <th>Año de Publicación</th>\n",
        "    <th>Longitud</th>\n",
        "    <th>Género</th> \n",
        "    <th>Venta discográficas (millones)</th>\n",
        "    <th>Ventas declaradas (millones)</th>\n",
        "    <th>Publicado</th>\n",
        "    <th>Banda sonora</th>\n",
        "    <th>Calificación (amigos)</th>\n",
        "  </tr>\n",
        "  <tr>\n",
        "    <td>Michael Jackson</td>\n",
        "    <td>Thriller</td> \n",
        "    <td>1982</td>\n",
        "    <td>00:42:19</td>\n",
        "    <td>Pop, rock, R&B</td>\n",
        "    <td>46</td>\n",
        "    <td>65</td>\n",
        "    <td>30 de noviembre de 1982</td>\n",
        "    <td></td>\n",
        "    <td>10.0</td>\n",
        "  </tr>\n",
        "  <tr>\n",
        "    <td>AC/DC</td>\n",
        "    <td>Back in Black</td> \n",
        "    <td>1980</td>\n",
        "    <td>00:42:11</td>\n",
        "    <td>Hard rock</td>\n",
        "    <td>26.1</td>\n",
        "    <td>50</td>\n",
        "    <td>25 de julio de 1980</td>\n",
        "    <td></td>\n",
        "    <td>8.5</td>\n",
        "  </tr>\n",
        "    <tr>\n",
        "    <td>Pink Floyd</td>\n",
        "    <td>The Dark Side of the Moon</td> \n",
        "    <td>1973</td>\n",
        "    <td>00:42:49</td>\n",
        "    <td>Progressive rock</td>\n",
        "    <td>24.2</td>\n",
        "    <td>45</td>\n",
        "    <td>1 de marzo de 1973</td>\n",
        "    <td></td>\n",
        "    <td>9.5</td>\n",
        "  </tr>\n",
        "    <tr>\n",
        "    <td>Whitney Houston</td>\n",
        "    <td>The Bodyguard</td> \n",
        "    <td>1992</td>\n",
        "    <td>00:57:44</td>\n",
        "    <td>Soundtrack/R&B, soul, pop</td>\n",
        "    <td>26.1</td>\n",
        "    <td>50</td>\n",
        "    <td>25 de julio de 1980</td>\n",
        "    <td>Sí</td>\n",
        "    <td>7.0</td>\n",
        "  </tr>\n",
        "    <tr>\n",
        "    <td>Meat Loaf</td>\n",
        "    <td>Bat Out of Hell</td> \n",
        "    <td>1977</td>\n",
        "    <td>00:46:33</td>\n",
        "    <td>Hard rock, progressive rock</td>\n",
        "    <td>20.6</td>\n",
        "    <td>43</td>\n",
        "    <td>21 de octubre de 1977</td>\n",
        "    <td></td>\n",
        "    <td>7.0</td>\n",
        "  </tr>\n",
        "    <tr>\n",
        "    <td>Eagles</td>\n",
        "    <td>Their Greatest Hits (1971-1975)</td> \n",
        "    <td>1976</td>\n",
        "    <td>00:43:08</td>\n",
        "    <td>Rock, soft rock, folk rock</td>\n",
        "    <td>32.2</td>\n",
        "    <td>42</td>\n",
        "    <td>17 de febrero de 1976</td>\n",
        "    <td></td>\n",
        "    <td>9.5</td>\n",
        "  </tr>\n",
        "    <tr>\n",
        "    <td>Bee Gees</td>\n",
        "    <td>Saturday Night Fever</td> \n",
        "    <td>1977</td>\n",
        "    <td>1:15:54</td>\n",
        "    <td>Disco</td>\n",
        "    <td>20.6</td>\n",
        "    <td>40</td>\n",
        "    <td>15 de noviembre de 1977</td>\n",
        "    <td>Sí</td>\n",
        "    <td>9.0</td>\n",
        "  </tr>\n",
        "    <tr>\n",
        "    <td>Fleetwood Mac</td>\n",
        "    <td>Rumours</td> \n",
        "    <td>1977</td>\n",
        "    <td>00:40:01</td>\n",
        "    <td>Soft rock</td>\n",
        "    <td>27.9</td>\n",
        "    <td>40</td>\n",
        "    <td>4 de febrero de 1977</td>\n",
        "    <td></td>\n",
        "    <td>9.5</td>\n",
        "  </tr>\n",
        "</table></font>"
      ]
    },
    {
      "cell_type": "markdown",
      "metadata": {
        "id": "QNqsAHV6-60t"
      },
      "source": [
        "<hr>"
      ]
    },
    {
      "cell_type": "markdown",
      "metadata": {
        "id": "b5l3B26D-60u"
      },
      "source": [
        "<h2 id=\"tuple\">Tuplas</h2>"
      ]
    },
    {
      "cell_type": "markdown",
      "metadata": {
        "id": "psLDytUh-60u"
      },
      "source": [
        "En Python, existen diferentes tipos de datos: cadena, entero y flotante. Todos estos tipos de datos pueden estar contenidos en una tupla del siguiente modo:"
      ]
    },
    {
      "cell_type": "markdown",
      "metadata": {
        "id": "418eei2l-60u"
      },
      "source": [
        "<img src=\"https://s3-api.us-geo.objectstorage.softlayer.net/cf-courses-data/CognitiveClass/PY0101EN/Chapter%202/Images/TuplesType.png\" width=\"750\" align=\"center\" />"
      ]
    },
    {
      "cell_type": "markdown",
      "metadata": {
        "id": "diCa8GSc-60u"
      },
      "source": [
        "Ahora, hagamos su primera tupla con datos tipo cadena, entero y flotante."
      ]
    },
    {
      "cell_type": "code",
      "metadata": {
        "colab": {
          "base_uri": "https://localhost:8080/"
        },
        "id": "W3uEB9df-60u",
        "outputId": "e6a0a394-e784-45ab-9027-5da47274dd39"
      },
      "source": [
        "# Crear su primera tupla\n",
        "\n",
        "tuple1 = (\"disco\",10,1.2 )\n",
        "tuple1"
      ],
      "execution_count": 1,
      "outputs": [
        {
          "output_type": "execute_result",
          "data": {
            "text/plain": [
              "('disco', 10, 1.2)"
            ]
          },
          "metadata": {
            "tags": []
          },
          "execution_count": 1
        }
      ]
    },
    {
      "cell_type": "markdown",
      "metadata": {
        "id": "D1GirS1--60v"
      },
      "source": [
        "El tipo de variable es una **tupla**. "
      ]
    },
    {
      "cell_type": "code",
      "metadata": {
        "colab": {
          "base_uri": "https://localhost:8080/"
        },
        "id": "5s3EqNDZ-60w",
        "outputId": "c7556cdc-daa0-4e50-bc05-6e3cb4302449"
      },
      "source": [
        "# Imprima el tipo de tupla que creó\n",
        "\n",
        "type(tuple1)"
      ],
      "execution_count": 2,
      "outputs": [
        {
          "output_type": "execute_result",
          "data": {
            "text/plain": [
              "tuple"
            ]
          },
          "metadata": {
            "tags": []
          },
          "execution_count": 2
        }
      ]
    },
    {
      "cell_type": "markdown",
      "metadata": {
        "id": "4_f8k6Gt-60w"
      },
      "source": [
        "<h3 id=\"index\">Indexación</h3>"
      ]
    },
    {
      "cell_type": "markdown",
      "metadata": {
        "id": "U3FPSecb-60w"
      },
      "source": [
        "Se puede acceder a cada elemento de una tupla mediante un índice. La siguiente tabla representa la relación entre el índice y los elementos en la tupla. Cada elemento se puede obtener con el nombre de la tupla seguido de corchetes con el número del índice:"
      ]
    },
    {
      "cell_type": "markdown",
      "metadata": {
        "id": "xKaiW5N--60w"
      },
      "source": [
        "<img src=\"https://s3-api.us-geo.objectstorage.softlayer.net/cf-courses-data/CognitiveClass/PY0101EN/Chapter%202/Images/TuplesIndex.gif\" width=\"750\" align=\"center\">"
      ]
    },
    {
      "cell_type": "markdown",
      "metadata": {
        "id": "1ortxjC3-60w"
      },
      "source": [
        "Podemos imprimir cada valor en la tupla:"
      ]
    },
    {
      "cell_type": "code",
      "metadata": {
        "colab": {
          "base_uri": "https://localhost:8080/"
        },
        "id": "UY8ig0jb-60x",
        "outputId": "a41fe91a-35aa-4512-fedd-49f55f4b14c7"
      },
      "source": [
        "# Imprimir la variable en cada índice\n",
        "\n",
        "print(tuple1[0])\n",
        "print(tuple1[1])\n",
        "print(tuple1[2])"
      ],
      "execution_count": 3,
      "outputs": [
        {
          "output_type": "stream",
          "text": [
            "disco\n",
            "10\n",
            "1.2\n"
          ],
          "name": "stdout"
        }
      ]
    },
    {
      "cell_type": "markdown",
      "metadata": {
        "id": "wGq-SY36-60x"
      },
      "source": [
        "Podemos imprimir el **tipo** de cada valor en la tupla:"
      ]
    },
    {
      "cell_type": "code",
      "metadata": {
        "colab": {
          "base_uri": "https://localhost:8080/"
        },
        "id": "ZiFRqrWs-60x",
        "outputId": "038ebae4-8df8-4403-f4f0-8daefb3c5a3a"
      },
      "source": [
        "# Imprimir el tipo de valor en cada índice\n",
        "\n",
        "print(type(tuple1[0]))\n",
        "print(type(tuple1[1]))\n",
        "print(type(tuple1[2]))"
      ],
      "execution_count": 4,
      "outputs": [
        {
          "output_type": "stream",
          "text": [
            "<class 'str'>\n",
            "<class 'int'>\n",
            "<class 'float'>\n"
          ],
          "name": "stdout"
        }
      ]
    },
    {
      "cell_type": "markdown",
      "metadata": {
        "id": "oncXBaEz-60x"
      },
      "source": [
        "We can also use negative indexing. We use the same table above with corresponding negative values:"
      ]
    },
    {
      "cell_type": "markdown",
      "metadata": {
        "id": "8u-9_eI_-60x"
      },
      "source": [
        "<img src=\"https://s3-api.us-geo.objectstorage.softlayer.net/cf-courses-data/CognitiveClass/PY0101EN/Chapter%202/Images/TuplesNeg.png\" width=\"750\" align=\"center\">"
      ]
    },
    {
      "cell_type": "markdown",
      "metadata": {
        "id": "iWraAnkc-60y"
      },
      "source": [
        "También podemos utilizar indexación negativa. Usamos la misma tabla de antes con los valores negativos correspondientes:"
      ]
    },
    {
      "cell_type": "code",
      "metadata": {
        "colab": {
          "base_uri": "https://localhost:8080/"
        },
        "id": "tHkHSQGY-60y",
        "outputId": "9e10f213-b035-4a57-de0a-6782d8c26b97"
      },
      "source": [
        "# Utilizar el índice negativo para obtener el valor del último elemento\n",
        "\n",
        "tuple1[-1]"
      ],
      "execution_count": 5,
      "outputs": [
        {
          "output_type": "execute_result",
          "data": {
            "text/plain": [
              "1.2"
            ]
          },
          "metadata": {
            "tags": []
          },
          "execution_count": 5
        }
      ]
    },
    {
      "cell_type": "markdown",
      "metadata": {
        "id": "GrRinMtz-60y"
      },
      "source": [
        "Podemos obtener el último elemento de la siguiente manera (esta vez no usaremos la instrucción escrita para mostrar los valores):"
      ]
    },
    {
      "cell_type": "code",
      "metadata": {
        "colab": {
          "base_uri": "https://localhost:8080/"
        },
        "id": "d69G5w_m-60y",
        "outputId": "119b79c3-569a-4e65-ba7e-45fc25982d32"
      },
      "source": [
        "# Utilizar el índice negativo para obtener el valor del penúltimo elemento\n",
        "\n",
        "tuple1[-2]"
      ],
      "execution_count": 6,
      "outputs": [
        {
          "output_type": "execute_result",
          "data": {
            "text/plain": [
              "10"
            ]
          },
          "metadata": {
            "tags": []
          },
          "execution_count": 6
        }
      ]
    },
    {
      "cell_type": "code",
      "metadata": {
        "colab": {
          "base_uri": "https://localhost:8080/",
          "height": 35
        },
        "id": "GLDWB0cH-60y",
        "outputId": "6652cbcb-eb1e-4570-b2e6-448e62bf1dcb"
      },
      "source": [
        "# Utilizar el índice negativo para obtener el valor del antepenúltimo elemento\n",
        "\n",
        "tuple1[-3]"
      ],
      "execution_count": 7,
      "outputs": [
        {
          "output_type": "execute_result",
          "data": {
            "application/vnd.google.colaboratory.intrinsic+json": {
              "type": "string"
            },
            "text/plain": [
              "'disco'"
            ]
          },
          "metadata": {
            "tags": []
          },
          "execution_count": 7
        }
      ]
    },
    {
      "cell_type": "markdown",
      "metadata": {
        "id": "eJr0VL5l-60z"
      },
      "source": [
        "<h3 id=\"concate\">Tuplas concatenadas</h3>"
      ]
    },
    {
      "cell_type": "markdown",
      "metadata": {
        "id": "gui1OG8F-60z"
      },
      "source": [
        "Podemos concatenar o combinar tuplas con el signo **+**:"
      ]
    },
    {
      "cell_type": "code",
      "metadata": {
        "colab": {
          "base_uri": "https://localhost:8080/"
        },
        "id": "UAGjLpIU-60z",
        "outputId": "9b06d231-667e-4875-c2cf-b78283d9ec1f"
      },
      "source": [
        "# Concatenar dos tuplas\n",
        "\n",
        "tuple2 = tuple1 + (\"hard rock\", 10)\n",
        "tuple2"
      ],
      "execution_count": 8,
      "outputs": [
        {
          "output_type": "execute_result",
          "data": {
            "text/plain": [
              "('disco', 10, 1.2, 'hard rock', 10)"
            ]
          },
          "metadata": {
            "tags": []
          },
          "execution_count": 8
        }
      ]
    },
    {
      "cell_type": "markdown",
      "metadata": {
        "id": "Oq3tk0ok-60z"
      },
      "source": [
        "Podemos segmentar las tuplas y obtener múltiples valores como se muestra en la figura a continuación:"
      ]
    },
    {
      "cell_type": "markdown",
      "metadata": {
        "id": "8xsjI1J2-60z"
      },
      "source": [
        "<img src=\"https://s3-api.us-geo.objectstorage.softlayer.net/cf-courses-data/CognitiveClass/PY0101EN/Chapter%202/Images/TuplesSlice.gif\" width=\"750\" align=\"center\">"
      ]
    },
    {
      "cell_type": "markdown",
      "metadata": {
        "id": "zIt5wuqr-60z"
      },
      "source": [
        "<h3 id=\"slice\">Segmentación</h3>"
      ]
    },
    {
      "cell_type": "markdown",
      "metadata": {
        "id": "jPNikhUm-60z"
      },
      "source": [
        "Podemos segmentar las tuplas y obtener nuevas tuplas con los elementos correspondientes: "
      ]
    },
    {
      "cell_type": "code",
      "metadata": {
        "colab": {
          "base_uri": "https://localhost:8080/"
        },
        "id": "xul1RLcV-600",
        "outputId": "7df680ed-9bd5-4dc1-fb97-d28f74575d53"
      },
      "source": [
        "# Segmentar desde el índice 0 al índice 2\n",
        "\n",
        "tuple2[0:3]"
      ],
      "execution_count": 9,
      "outputs": [
        {
          "output_type": "execute_result",
          "data": {
            "text/plain": [
              "('disco', 10, 1.2)"
            ]
          },
          "metadata": {
            "tags": []
          },
          "execution_count": 9
        }
      ]
    },
    {
      "cell_type": "markdown",
      "metadata": {
        "id": "WtfW6uV--600"
      },
      "source": [
        "Podemos obtener los dos últimos elementos de la tupla:"
      ]
    },
    {
      "cell_type": "code",
      "metadata": {
        "colab": {
          "base_uri": "https://localhost:8080/"
        },
        "id": "xDoCHMSR-600",
        "outputId": "b6eb06bb-97f2-4ec9-93cf-7e41bb045b76"
      },
      "source": [
        "# Segmentar desde el índice 3 al índice 4\n",
        "\n",
        "tuple2[3:5]"
      ],
      "execution_count": 10,
      "outputs": [
        {
          "output_type": "execute_result",
          "data": {
            "text/plain": [
              "('hard rock', 10)"
            ]
          },
          "metadata": {
            "tags": []
          },
          "execution_count": 10
        }
      ]
    },
    {
      "cell_type": "markdown",
      "metadata": {
        "id": "O_P85M_a-600"
      },
      "source": [
        "Podemos obtener la longitud de una tupla con el comando \"length\" (longitud): "
      ]
    },
    {
      "cell_type": "code",
      "metadata": {
        "colab": {
          "base_uri": "https://localhost:8080/"
        },
        "id": "CwjVisWV-600",
        "outputId": "0ffa648a-04c1-43f5-c935-e28beafdad4f"
      },
      "source": [
        "# Calcular la longitud de la tupla\n",
        "\n",
        "len(tuple2)"
      ],
      "execution_count": 11,
      "outputs": [
        {
          "output_type": "execute_result",
          "data": {
            "text/plain": [
              "5"
            ]
          },
          "metadata": {
            "tags": []
          },
          "execution_count": 11
        }
      ]
    },
    {
      "cell_type": "markdown",
      "metadata": {
        "id": "_0K59oB3-600"
      },
      "source": [
        "Esta figura muestra el número de elementos:"
      ]
    },
    {
      "cell_type": "markdown",
      "metadata": {
        "id": "Kfskmr0K-601"
      },
      "source": [
        "<img src=\"https://s3-api.us-geo.objectstorage.softlayer.net/cf-courses-data/CognitiveClass/PY0101EN/Chapter%202/Images/TuplesElement.png\" width=\"750\" align=\"center\">"
      ]
    },
    {
      "cell_type": "markdown",
      "metadata": {
        "id": "FNPZfMHQ-601"
      },
      "source": [
        "<h3 id=\"sort\">Clasificación</h3>"
      ]
    },
    {
      "cell_type": "markdown",
      "metadata": {
        "id": "yhilbxag-601"
      },
      "source": [
        "Considere la siguiente tupla:"
      ]
    },
    {
      "cell_type": "code",
      "metadata": {
        "collapsed": true,
        "id": "_pd7QeX1-601"
      },
      "source": [
        "# Ejemplo de tupla\n",
        "\n",
        "Ratings = (0, 9, 6, 5, 10, 8, 9, 6, 2)"
      ],
      "execution_count": 12,
      "outputs": []
    },
    {
      "cell_type": "markdown",
      "metadata": {
        "id": "br27NNQs-601"
      },
      "source": [
        "Podemos ordenar los valores en una tupla y guardarlos en otra: "
      ]
    },
    {
      "cell_type": "code",
      "metadata": {
        "colab": {
          "base_uri": "https://localhost:8080/"
        },
        "id": "WEyYv9c8-601",
        "outputId": "9973a105-d404-48a8-bbf1-6b8d4703f576"
      },
      "source": [
        "# Ordenar la tupla\n",
        "\n",
        "RatingsSorted = sorted(Ratings)\n",
        "RatingsSorted"
      ],
      "execution_count": 13,
      "outputs": [
        {
          "output_type": "execute_result",
          "data": {
            "text/plain": [
              "[0, 2, 5, 6, 6, 8, 9, 9, 10]"
            ]
          },
          "metadata": {
            "tags": []
          },
          "execution_count": 13
        }
      ]
    },
    {
      "cell_type": "markdown",
      "metadata": {
        "id": "YElE7qEM-601"
      },
      "source": [
        "<h3 id=\"nest\">Tupla anidada</h3>"
      ]
    },
    {
      "cell_type": "markdown",
      "metadata": {
        "id": "Z1wi1e5c-602"
      },
      "source": [
        "Una tupla puede contener otra tupla, así como otros tipos de datos más complejos. Este proceso se llama \"anidación\". Considere la siguiente tupla con varios elementos: "
      ]
    },
    {
      "cell_type": "code",
      "metadata": {
        "collapsed": true,
        "id": "fq88A8Eb-602"
      },
      "source": [
        "# Crear una tupla anidada\n",
        "\n",
        "NestedT =(1, 2, (\"pop\", \"rock\") ,(3,4),(\"disco\",(1,2)))"
      ],
      "execution_count": 16,
      "outputs": []
    },
    {
      "cell_type": "markdown",
      "metadata": {
        "id": "8ay7EC0k-602"
      },
      "source": [
        "Cada elemento en la tupla, incluidas otras tuplas, puede obtenerse mediante un índice como se muestra en la figura:"
      ]
    },
    {
      "cell_type": "markdown",
      "metadata": {
        "id": "CXYJ8vJh-602"
      },
      "source": [
        "<img src=\"https://s3-api.us-geo.objectstorage.softlayer.net/cf-courses-data/CognitiveClass/PY0101EN/Chapter%202/Images/TuplesNestOne.png\" width=\"750\" align=\"center\">"
      ]
    },
    {
      "cell_type": "code",
      "metadata": {
        "colab": {
          "base_uri": "https://localhost:8080/"
        },
        "id": "4PJJYNg_-602",
        "outputId": "8a3dfce7-15e7-407b-efbd-5b5922d35721"
      },
      "source": [
        "# Imprimir un elemento en cada índice\n",
        "\n",
        "print(\"Element 0 of Tuple: \", NestedT[0])\n",
        "print(\"Element 1 of Tuple: \", NestedT[1])\n",
        "print(\"Element 2 of Tuple: \", NestedT[2])\n",
        "print(\"Element 3 of Tuple: \", NestedT[3])\n",
        "print(\"Element 4 of Tuple: \", NestedT[4])"
      ],
      "execution_count": 17,
      "outputs": [
        {
          "output_type": "stream",
          "text": [
            "Element 0 of Tuple:  1\n",
            "Element 1 of Tuple:  2\n",
            "Element 2 of Tuple:  ('pop', 'rock')\n",
            "Element 3 of Tuple:  (3, 4)\n",
            "Element 4 of Tuple:  ('disco', (1, 2))\n"
          ],
          "name": "stdout"
        }
      ]
    },
    {
      "cell_type": "markdown",
      "metadata": {
        "id": "PAlahoFp-602"
      },
      "source": [
        "Podemos usar el segundo índice para acceder a otras tuplas como se muestra en la figura:"
      ]
    },
    {
      "cell_type": "markdown",
      "metadata": {
        "id": "CJumP4M2-602"
      },
      "source": [
        "<img src=\"https://s3-api.us-geo.objectstorage.softlayer.net/cf-courses-data/CognitiveClass/PY0101EN/Chapter%202/Images/TuplesNestTwo.png\" width=\"750\" align=\"center\">"
      ]
    },
    {
      "cell_type": "markdown",
      "metadata": {
        "id": "7IEBnTpf-603"
      },
      "source": [
        "Podemos acceder a las tuplas anidadas:"
      ]
    },
    {
      "cell_type": "code",
      "metadata": {
        "colab": {
          "base_uri": "https://localhost:8080/"
        },
        "id": "mZzHxneW-603",
        "outputId": "bb15c9a7-9de5-4a26-f108-5141e3b20a3c"
      },
      "source": [
        "# Imprimir un elemento en cada índice, incluidos los índices para anidar tuplas.\n",
        "\n",
        "print(\"Element 2, 0 of Tuple: \",   NestedT[2][0])\n",
        "print(\"Element 2, 1 of Tuple: \",   NestedT[2][1])\n",
        "print(\"Element 3, 0 of Tuple: \",   NestedT[3][0])\n",
        "print(\"Element 3, 1 of Tuple: \",   NestedT[3][1])\n",
        "print(\"Element 4, 0 of Tuple: \",   NestedT[4][0])\n",
        "print(\"Element 4, 1 of Tuple: \",   NestedT[4][1])"
      ],
      "execution_count": 18,
      "outputs": [
        {
          "output_type": "stream",
          "text": [
            "Element 2, 0 of Tuple:  pop\n",
            "Element 2, 1 of Tuple:  rock\n",
            "Element 3, 0 of Tuple:  3\n",
            "Element 3, 1 of Tuple:  4\n",
            "Element 4, 0 of Tuple:  disco\n",
            "Element 4, 1 of Tuple:  (1, 2)\n"
          ],
          "name": "stdout"
        }
      ]
    },
    {
      "cell_type": "markdown",
      "metadata": {
        "id": "buo_60Ka-603"
      },
      "source": [
        "Podemos acceder a los datos de tipo cadena en las segundas tuplas anidadas con un tercer índice:"
      ]
    },
    {
      "cell_type": "code",
      "metadata": {
        "colab": {
          "base_uri": "https://localhost:8080/",
          "height": 35
        },
        "id": "rSsdtNz2-603",
        "outputId": "9ba29f6f-2485-4541-9adb-6cf45d8075be"
      },
      "source": [
        "# Imprimir el primer elemento en las segundas tuplas anidadas.\n",
        "\n",
        "NestedT[2][1][0]"
      ],
      "execution_count": 19,
      "outputs": [
        {
          "output_type": "execute_result",
          "data": {
            "application/vnd.google.colaboratory.intrinsic+json": {
              "type": "string"
            },
            "text/plain": [
              "'r'"
            ]
          },
          "metadata": {
            "tags": []
          },
          "execution_count": 19
        }
      ]
    },
    {
      "cell_type": "code",
      "metadata": {
        "colab": {
          "base_uri": "https://localhost:8080/",
          "height": 35
        },
        "id": "-MQA6bnT-603",
        "outputId": "28e85a7e-5ac2-4670-f49a-8946ecca7fbc"
      },
      "source": [
        "# Imprimir el segundo elemento en las segundas tuplas anidadas.\n",
        "\n",
        "NestedT[2][1][1]"
      ],
      "execution_count": 20,
      "outputs": [
        {
          "output_type": "execute_result",
          "data": {
            "application/vnd.google.colaboratory.intrinsic+json": {
              "type": "string"
            },
            "text/plain": [
              "'o'"
            ]
          },
          "metadata": {
            "tags": []
          },
          "execution_count": 20
        }
      ]
    },
    {
      "cell_type": "markdown",
      "metadata": {
        "id": "NrtZ_KU--603"
      },
      "source": [
        "Podemos utilizar un árbol para visualizar el proceso. Cada nuevo índice corresponde a un nivel más profundo en el árbol:"
      ]
    },
    {
      "cell_type": "markdown",
      "metadata": {
        "id": "NYe_HV1D-604"
      },
      "source": [
        "<img src=\"https://s3-api.us-geo.objectstorage.softlayer.net/cf-courses-data/CognitiveClass/PY0101EN/Chapter%202/Images/TuplesNestThree.gif\" width=\"750\" align=\"center\">"
      ]
    },
    {
      "cell_type": "markdown",
      "metadata": {
        "id": "UQsvEh-3-604"
      },
      "source": [
        "De manera similar, con un cuarto índice, podemos acceder a elementos anidados más profundamente en el árbol:"
      ]
    },
    {
      "cell_type": "code",
      "metadata": {
        "colab": {
          "base_uri": "https://localhost:8080/"
        },
        "id": "W5pCIj8E-604",
        "outputId": "da227ea7-1c1c-4e66-c7b4-d7b0ea8d989a"
      },
      "source": [
        "# Imprimir el primer elemento en las segundas tuplas anidadas.\n",
        "\n",
        "NestedT[4][1][0]"
      ],
      "execution_count": 21,
      "outputs": [
        {
          "output_type": "execute_result",
          "data": {
            "text/plain": [
              "1"
            ]
          },
          "metadata": {
            "tags": []
          },
          "execution_count": 21
        }
      ]
    },
    {
      "cell_type": "code",
      "metadata": {
        "colab": {
          "base_uri": "https://localhost:8080/"
        },
        "id": "vwZ29Zef-604",
        "outputId": "fe1a5e99-df9e-4b42-b981-aa6de8eb2d70"
      },
      "source": [
        "# Imprimir el segundo elemento en las segundas tuplas anidadas.\n",
        "\n",
        "NestedT[4][1][1]"
      ],
      "execution_count": 22,
      "outputs": [
        {
          "output_type": "execute_result",
          "data": {
            "text/plain": [
              "2"
            ]
          },
          "metadata": {
            "tags": []
          },
          "execution_count": 22
        }
      ]
    },
    {
      "cell_type": "markdown",
      "metadata": {
        "id": "DilFJrlO-604"
      },
      "source": [
        "La siguiente figura muestra la relación entre el árbol y el elemento <code>NestedT[4][1][1]</code>:"
      ]
    },
    {
      "cell_type": "markdown",
      "metadata": {
        "id": "rUJd7Agd-604"
      },
      "source": [
        "<img src=\"https://s3-api.us-geo.objectstorage.softlayer.net/cf-courses-data/CognitiveClass/PY0101EN/Chapter%202/Images/TuplesNestFour.gif\" width=\"750\" align=\"center\">"
      ]
    },
    {
      "cell_type": "markdown",
      "metadata": {
        "id": "MjdFOujF-605"
      },
      "source": [
        "<h2 id=\"quiz\">Cuestionario sobre tuplas</h2>"
      ]
    },
    {
      "cell_type": "markdown",
      "metadata": {
        "id": "GEmw63qX-605"
      },
      "source": [
        "Considere la siguiente tupla:"
      ]
    },
    {
      "cell_type": "code",
      "metadata": {
        "colab": {
          "base_uri": "https://localhost:8080/"
        },
        "id": "iVo8hSa2-605",
        "outputId": "f1962b68-2dd9-4e38-a307-30ff399f886b"
      },
      "source": [
        "# Ejemplo de tupla\n",
        "\n",
        "genres_tuple = (\"pop\", \"rock\", \"soul\", \"hard rock\", \"soft rock\", \\\n",
        "                \"R&B\", \"progressive rock\", \"disco\")\n",
        "genres_tuple"
      ],
      "execution_count": 23,
      "outputs": [
        {
          "output_type": "execute_result",
          "data": {
            "text/plain": [
              "('pop',\n",
              " 'rock',\n",
              " 'soul',\n",
              " 'hard rock',\n",
              " 'soft rock',\n",
              " 'R&B',\n",
              " 'progressive rock',\n",
              " 'disco')"
            ]
          },
          "metadata": {
            "tags": []
          },
          "execution_count": 23
        }
      ]
    },
    {
      "cell_type": "markdown",
      "metadata": {
        "id": "IDriPvAv-605"
      },
      "source": [
        "Encuentre la longitud de la tupla <code>genres_tuple</code>:"
      ]
    },
    {
      "cell_type": "code",
      "metadata": {
        "colab": {
          "base_uri": "https://localhost:8080/"
        },
        "id": "xm6VW84Z-605",
        "outputId": "9ad4984b-5d01-484c-dbb9-4741ea4c6b46"
      },
      "source": [
        "# Escriba su código a continuación y presione Shift+Enter para ejecutarlo\n",
        "len(genres_tuple)"
      ],
      "execution_count": 24,
      "outputs": [
        {
          "output_type": "execute_result",
          "data": {
            "text/plain": [
              "8"
            ]
          },
          "metadata": {
            "tags": []
          },
          "execution_count": 24
        }
      ]
    },
    {
      "cell_type": "markdown",
      "metadata": {
        "id": "6ovbEpps-605"
      },
      "source": [
        "<img src=\"https://s3-api.us-geo.objectstorage.softlayer.net/cf-courses-data/CognitiveClass/PY0101EN/Chapter%202/Images/TuplesQuiz.png\" width=\"1100\" align=\"center\">"
      ]
    },
    {
      "cell_type": "markdown",
      "metadata": {
        "id": "FmUfP6H7-605"
      },
      "source": [
        "Haga doble clic __aquí__ para ver la solución.\n",
        "\n",
        "<!-- Su respuesta se muestra a continuación:\n",
        "len(genres_tuple)\n",
        "-->"
      ]
    },
    {
      "cell_type": "markdown",
      "metadata": {
        "id": "w-EQZdu9-605"
      },
      "source": [
        "Acceda al elemento relacionado con el índice 3: "
      ]
    },
    {
      "cell_type": "code",
      "metadata": {
        "colab": {
          "base_uri": "https://localhost:8080/"
        },
        "id": "3gVFoDZm-606",
        "outputId": "83cf6b44-2c3e-4dc8-dcee-92b6715d0f56"
      },
      "source": [
        "# Escriba su código a continuación y presione Shift+Enter para ejecutarlo\n",
        "print(genres_tuple[3])"
      ],
      "execution_count": 25,
      "outputs": [
        {
          "output_type": "stream",
          "text": [
            "hard rock\n"
          ],
          "name": "stdout"
        }
      ]
    },
    {
      "cell_type": "markdown",
      "metadata": {
        "id": "GL7kdIsQ-606"
      },
      "source": [
        "Haga doble clic __aquí__ para ver la solución.\n",
        "\n",
        "<!-- Su respuesta se muestra a continuación:\n",
        "genres_tuple[3]\n",
        "-->"
      ]
    },
    {
      "cell_type": "markdown",
      "metadata": {
        "id": "WjAKk0Sl-606"
      },
      "source": [
        "Utilice segmentación para obtener los índices 3, 4 y 5:"
      ]
    },
    {
      "cell_type": "code",
      "metadata": {
        "colab": {
          "base_uri": "https://localhost:8080/"
        },
        "id": "KuurtBda-606",
        "outputId": "5202626e-5804-4f82-8086-675ca21ec096"
      },
      "source": [
        "# Escriba su código a continuación y presione Shift+Enter para ejecutarlo\n",
        "genres_tuple[3:6]"
      ],
      "execution_count": 28,
      "outputs": [
        {
          "output_type": "execute_result",
          "data": {
            "text/plain": [
              "('hard rock', 'soft rock', 'R&B')"
            ]
          },
          "metadata": {
            "tags": []
          },
          "execution_count": 28
        }
      ]
    },
    {
      "cell_type": "markdown",
      "metadata": {
        "id": "Qn6ZlupU-606"
      },
      "source": [
        "Haga doble clic __aquí__ para ver la solución.\n",
        "\n",
        "<!-- Su respuesta se muestra a continuación:\n",
        "genres_tuple[3:6]\n",
        "-->"
      ]
    },
    {
      "cell_type": "markdown",
      "metadata": {
        "id": "e9SRMCc5-606"
      },
      "source": [
        "Encuentre los dos primeros elementos de la tupla <code>genres_tuple</code>:"
      ]
    },
    {
      "cell_type": "code",
      "metadata": {
        "colab": {
          "base_uri": "https://localhost:8080/"
        },
        "id": "ZffsFLXo-607",
        "outputId": "1b94bbc7-ecc5-4c31-bd38-7db61d023a5f"
      },
      "source": [
        "# Escriba su código a continuación y presione Shift+Enter para ejecutarlo\n",
        "genres_tuple[0:2]"
      ],
      "execution_count": 29,
      "outputs": [
        {
          "output_type": "execute_result",
          "data": {
            "text/plain": [
              "('pop', 'rock')"
            ]
          },
          "metadata": {
            "tags": []
          },
          "execution_count": 29
        }
      ]
    },
    {
      "cell_type": "markdown",
      "metadata": {
        "id": "CfPbLf5Y-607"
      },
      "source": [
        "Haga doble clic __aquí__ para ver la solución.\n",
        "\n",
        "<!-- Su respuesta se muestra a continuación:\n",
        "genres_tuple[0:2]\n",
        "-->"
      ]
    },
    {
      "cell_type": "markdown",
      "metadata": {
        "id": "tH4n3kZj-607"
      },
      "source": [
        "Encuentre el primer índice de <code>\"disco\"</code>:"
      ]
    },
    {
      "cell_type": "code",
      "metadata": {
        "colab": {
          "base_uri": "https://localhost:8080/"
        },
        "id": "5xgfAl6G-607",
        "outputId": "e9e93d7c-4b14-4cbe-de06-1282b855feb6"
      },
      "source": [
        "# Escriba su código a continuación y presione Shift+Enter para ejecutarlo\n",
        "genres_tuple.index(\"disco\")"
      ],
      "execution_count": 31,
      "outputs": [
        {
          "output_type": "execute_result",
          "data": {
            "text/plain": [
              "7"
            ]
          },
          "metadata": {
            "tags": []
          },
          "execution_count": 31
        }
      ]
    },
    {
      "cell_type": "markdown",
      "metadata": {
        "id": "eg-SfieE-607"
      },
      "source": [
        "Haga doble clic __aquí__ para ver la solución.\n",
        "\n",
        "<!-- Su respuesta se muestra a continuación:\n",
        "genres_tuple.index(\"disco\")\n",
        "-->"
      ]
    },
    {
      "cell_type": "markdown",
      "metadata": {
        "id": "4Hk-D5nR-607"
      },
      "source": [
        "Genere una lista ordenada a partir de la tupla <code>C_tuple=(-5, 1, -3)</code>:"
      ]
    },
    {
      "cell_type": "code",
      "metadata": {
        "colab": {
          "base_uri": "https://localhost:8080/"
        },
        "id": "ywXVW_EI-607",
        "outputId": "1ff661d0-76e2-4bb4-c81f-9059d1314799"
      },
      "source": [
        "# Escriba su código a continuación y presione Shift+Enter para ejecutarlo\n",
        "C_tuple=(-5, 1, -3)\n",
        "lista = sorted(C_tuple)\n",
        "lista"
      ],
      "execution_count": 32,
      "outputs": [
        {
          "output_type": "execute_result",
          "data": {
            "text/plain": [
              "[-5, -3, 1]"
            ]
          },
          "metadata": {
            "tags": []
          },
          "execution_count": 32
        }
      ]
    },
    {
      "cell_type": "markdown",
      "metadata": {
        "id": "Y23sjsCz-608"
      },
      "source": [
        "Haga doble clic __aquí__ para ver la solución.\n",
        "\n",
        "<!-- Su respuesta se muestra a continuación:\n",
        "C_tuple = (-5, 1, -3)\n",
        "C_list = sorted(C_tuple)\n",
        "C_list\n",
        "-->"
      ]
    },
    {
      "cell_type": "markdown",
      "metadata": {
        "id": "9JOgjNO0-608"
      },
      "source": [
        "<hr>\n",
        "<h2>¡El último ejercicio!</h2>\n",
        "<p>Felicitaciones, ha completado su primera lección y  laboratorio práctico en Python. Sin embargo, hay algo más que debes hacer. La comunidad de Data Science fomenta el trabajo compartido. La mejor manera de compartir y mostrar su trabajo es compartirlo en GitHub. Al compartir su cuaderno en GitHub, no solo está construyendo su reputación con otros científicos de datos, sino que también puede mostrarlo cuando solicita un trabajo. Aunque este fue su primer trabajo, nunca es demasiado temprano para comenzar a crear buenos hábitos. Por lo tanto, por favor lea y siga <a href=\"https://cognitiveclass.ai/blog/data-scientists-stand-out-by-sharing-your-notebooks/\" target=\"_blank\">este articulo</a> para aprender como compartir su trabajo.\n",
        "<hr>"
      ]
    },
    {
      "cell_type": "markdown",
      "metadata": {
        "id": "7NPZnDHt-608"
      },
      "source": [
        "<div class=\"alert alert-block alert-info\" style=\"margin-top: 20px\">\n",
        "<h2>¡Obtenga IBM Watson Studio libre de cargo!</h2>\n",
        "    <p><a href=\"https://cocl.us/NotebooksPython101bottom\"><img src=\"https://s3-api.us-geo.objectstorage.softlayer.net/cf-courses-data/CognitiveClass/PY0101EN/Ad/BottomAd.png\" width=\"750\" align=\"center\"></a></p>\n",
        "</div>"
      ]
    },
    {
      "cell_type": "markdown",
      "metadata": {
        "id": "Cr42uijQ-608"
      },
      "source": [
        "<h3>Acerca de los autores</h3>  \n",
        "<p><a href=\"https://www.linkedin.com/in/joseph-s-50398b136/\" target=\"_blank\">Joseph Santarcangelo</a> es un Científico de Datos de IBM y ostenta un PhD en Ingeniería Eléctrica. Sus estudios están centrados en el uso de Machine Learning, Procesamiento de Señaoles y Visión por Ordenador para determinar como los videos impactan la cognición humana. Joseph ha trabajado para IBM desde que completó su PhD.</p>"
      ]
    },
    {
      "cell_type": "markdown",
      "metadata": {
        "id": "5M2W8Zhj-608"
      },
      "source": [
        "Otros colaboradores: <a href=\"www.linkedin.com/in/jiahui-mavis-zhou-a4537814a\">Mavis Zhou</a>"
      ]
    },
    {
      "cell_type": "markdown",
      "metadata": {
        "id": "AZ3_olAm-608"
      },
      "source": [
        "<hr>"
      ]
    },
    {
      "cell_type": "markdown",
      "metadata": {
        "id": "XUXLJ8KG-608"
      },
      "source": [
        "<p>Derechos de autor &copy; 2018 IBM Developer Skills Network. Esta cuaderno y su código fuente se publican bajo los términos de la <a href=\"https://cognitiveclass.ai/mit-license/\">Licencia de MIT</a>.</p>"
      ]
    }
  ]
}